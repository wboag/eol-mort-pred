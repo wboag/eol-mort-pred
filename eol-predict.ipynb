{
 "cells": [
  {
   "cell_type": "code",
   "execution_count": 2,
   "id": "bronze-placement",
   "metadata": {},
   "outputs": [],
   "source": [
    "import psycopg2\n",
    "import pandas as pd\n",
    "import tqdm\n",
    "from collections import Counter\n",
    "import pylab as pl\n",
    "import random\n",
    "import xgboost\n",
    "from sklearn.feature_extraction import DictVectorizer\n",
    "from sklearn.metrics import roc_auc_score\n",
    "from sklearn.svm import LinearSVC\n",
    "import numpy as np\n",
    "from sklearn.calibration import calibration_curve\n",
    "from scipy.stats import mannwhitneyu\n",
    "\n",
    "\n",
    "pd.set_option('display.max_columns', None)"
   ]
  },
  {
   "cell_type": "code",
   "execution_count": 3,
   "id": "personal-argument",
   "metadata": {},
   "outputs": [],
   "source": [
    "# create a database connection\n",
    "sqluser = 'wboag'\n",
    "dbname = 'mimic'\n",
    "schema_name = 'mimiciii'\n",
    "\n",
    "# Connect to the database\n",
    "con = psycopg2.connect(dbname=dbname, user=sqluser, host=\"/var/run/postgresql\")"
   ]
  },
  {
   "cell_type": "markdown",
   "id": "lovely-flood",
   "metadata": {},
   "source": [
    "# Cohort Creation"
   ]
  },
  {
   "cell_type": "code",
   "execution_count": 4,
   "id": "verbal-gross",
   "metadata": {},
   "outputs": [
    {
     "name": "stdout",
     "output_type": "stream",
     "text": [
      "(39813, 22)\n"
     ]
    }
   ],
   "source": [
    "# TODO: exclude patients who die in-hospital\n",
    "cohort_query = '''\n",
    "WITH T AS (\n",
    "        SELECT subject_id, MAX(admittime) AS admittime\n",
    "        FROM mimiciii.admissions \n",
    "        GROUP BY subject_id\n",
    "        ),\n",
    "     EOL as (\n",
    "         select hadm_id\n",
    "         from mimiciii.diagnoses_icd\n",
    "         where icd9_code = 'V667'\n",
    "     )\n",
    "SELECT a.*, gender, dob, dod\n",
    "FROM mimiciii.admissions a\n",
    "    JOIN T ON T.subject_id = a.subject_id AND T.admittime = a.admittime\n",
    "    JOIN mimiciii.patients  p on p.subject_id = a.subject_id\n",
    "where a.hadm_id not in (select hadm_id from EOL)\n",
    "and ((dod is null) or (dod :: date - dischtime ::date >= 3))\n",
    "and a.discharge_location not in ('HOSPICE-HOME', 'HOSPICE-MEDICAL FACILITY', 'DEAD/EXPIRED')\n",
    "--and (a.admittime :: date - dob ::date) / 365.25 >= 18\n",
    "--and insurance = 'Medicare'\n",
    "'''\n",
    "cohort = pd.read_sql_query(cohort_query, con)\n",
    "print(cohort.shape)\n",
    "cohort.head()"
   ]
  },
  {
   "cell_type": "code",
   "execution_count": 4,
   "id": "closed-survivor",
   "metadata": {},
   "outputs": [],
   "source": [
    "codestatus_df = pd.read_sql_query('select * from mimiciii.code_status', con)\n",
    "\n",
    "# get code statuses\n",
    "codestatus = {}\n",
    "for row in codestatus_df.itertuples():\n",
    "    if row.fullcode_last == 1:\n",
    "        cs = 'fullcode'\n",
    "    elif row.cmo_last == 1:\n",
    "        cs = 'cmo'\n",
    "    elif row.dnr_last == 1:\n",
    "        cs = 'dnr'\n",
    "    elif row.dni_last == 1:\n",
    "        cs = 'dni'\n",
    "    elif row.dncpr_last == 1:\n",
    "        cs = 'dncpr'\n",
    "    else:\n",
    "        cs = 'none'\n",
    "        \n",
    "    codestatus[row.hadm_id] = cs"
   ]
  },
  {
   "cell_type": "code",
   "execution_count": 5,
   "id": "generous-lawyer",
   "metadata": {},
   "outputs": [
    {
     "name": "stdout",
     "output_type": "stream",
     "text": [
      "1615\n",
      "(39785, 22)\n"
     ]
    }
   ],
   "source": [
    "cmo = set([hadm_id for hadm_id,cs in codestatus.items() if cs=='cmo'])\n",
    "print(len(cmo))\n",
    "\n",
    "cohort = cohort[~cohort.hadm_id.isin(cmo)]\n",
    "print(cohort.shape)"
   ]
  },
  {
   "cell_type": "code",
   "execution_count": 6,
   "id": "congressional-maryland",
   "metadata": {},
   "outputs": [
    {
     "name": "stdout",
     "output_type": "stream",
     "text": [
      "(39306, 4)\n"
     ]
    },
    {
     "data": {
      "text/html": [
       "<div>\n",
       "<style scoped>\n",
       "    .dataframe tbody tr th:only-of-type {\n",
       "        vertical-align: middle;\n",
       "    }\n",
       "\n",
       "    .dataframe tbody tr th {\n",
       "        vertical-align: top;\n",
       "    }\n",
       "\n",
       "    .dataframe thead th {\n",
       "        text-align: right;\n",
       "    }\n",
       "</style>\n",
       "<table border=\"1\" class=\"dataframe\">\n",
       "  <thead>\n",
       "    <tr style=\"text-align: right;\">\n",
       "      <th></th>\n",
       "      <th>subject_id</th>\n",
       "      <th>hadm_id</th>\n",
       "      <th>gender</th>\n",
       "      <th>ethnicity</th>\n",
       "    </tr>\n",
       "  </thead>\n",
       "  <tbody>\n",
       "    <tr>\n",
       "      <th>0</th>\n",
       "      <td>2</td>\n",
       "      <td>163353</td>\n",
       "      <td>M</td>\n",
       "      <td>ASIAN</td>\n",
       "    </tr>\n",
       "    <tr>\n",
       "      <th>1</th>\n",
       "      <td>3</td>\n",
       "      <td>145834</td>\n",
       "      <td>M</td>\n",
       "      <td>WHITE</td>\n",
       "    </tr>\n",
       "    <tr>\n",
       "      <th>2</th>\n",
       "      <td>4</td>\n",
       "      <td>185777</td>\n",
       "      <td>F</td>\n",
       "      <td>WHITE</td>\n",
       "    </tr>\n",
       "    <tr>\n",
       "      <th>3</th>\n",
       "      <td>5</td>\n",
       "      <td>178980</td>\n",
       "      <td>M</td>\n",
       "      <td>ASIAN</td>\n",
       "    </tr>\n",
       "    <tr>\n",
       "      <th>4</th>\n",
       "      <td>6</td>\n",
       "      <td>107064</td>\n",
       "      <td>F</td>\n",
       "      <td>WHITE</td>\n",
       "    </tr>\n",
       "  </tbody>\n",
       "</table>\n",
       "</div>"
      ],
      "text/plain": [
       "   subject_id  hadm_id gender ethnicity\n",
       "0           2   163353      M     ASIAN\n",
       "1           3   145834      M     WHITE\n",
       "2           4   185777      F     WHITE\n",
       "3           5   178980      M     ASIAN\n",
       "4           6   107064      F     WHITE"
      ]
     },
     "execution_count": 6,
     "metadata": {},
     "output_type": "execute_result"
    }
   ],
   "source": [
    "demographics_query = 'SELECT distinct subject_id,hadm_id,gender,ethnicity FROM mimiciii.icustay_detail;' \n",
    "demographics = pd.read_sql_query(demographics_query, con)\n",
    "\n",
    "# filter demographics to the patients in the cohort\n",
    "demographics = demographics[demographics.hadm_id.isin(set(cohort.hadm_id))]\n",
    "\n",
    "print(demographics.shape)\n",
    "demographics.head()"
   ]
  },
  {
   "cell_type": "code",
   "execution_count": 7,
   "id": "narrative-scotland",
   "metadata": {},
   "outputs": [],
   "source": [
    "def normalize_race(race):\n",
    "    if 'HISPANIC' in race:\n",
    "        return 'Hispanic'\n",
    "    if 'SOUTH AMERICAN' in race:\n",
    "        return 'Hispanic'\n",
    "    if 'AMERICAN INDIAN' in race:\n",
    "        return 'Native American'\n",
    "    if 'ASIAN' in race:\n",
    "        return 'Asian'\n",
    "    if 'BLACK' in race:\n",
    "        return 'Black'\n",
    "    if 'UNKNOWN/NOT SPECIFIED' in race:\n",
    "        return 'Not Specified'\n",
    "    if 'WHITE' in race:\n",
    "        return 'White'\n",
    "    #print race\n",
    "    return 'Other'\n",
    "\n",
    "demographics['race'] = demographics['ethnicity'].apply(normalize_race)"
   ]
  },
  {
   "cell_type": "markdown",
   "id": "reasonable-fitness",
   "metadata": {},
   "source": [
    "# Feature and Labels"
   ]
  },
  {
   "cell_type": "code",
   "execution_count": 8,
   "id": "massive-genesis",
   "metadata": {},
   "outputs": [
    {
     "name": "stdout",
     "output_type": "stream",
     "text": [
      "39785\n",
      "0.11816011059444514\n"
     ]
    }
   ],
   "source": [
    "# identify who dies within 6 months\n",
    "died_within_6months = cohort[(cohort.dod - cohort.dischtime) <= pd.Timedelta(days=180)]\n",
    "died_within_12months = cohort[(cohort.dod - cohort.dischtime) <= pd.Timedelta(days=365)]\n",
    "\n",
    "# label every patient as dying within 6 months or not\n",
    "labels = {hadm_id:0 for hadm_id in cohort.hadm_id}\n",
    "#for hadm_id in died_within_6months.hadm_id:\n",
    "for hadm_id in died_within_12months.hadm_id:\n",
    "    labels[hadm_id] = 1\n",
    "\n",
    "print(len(labels))\n",
    "\n",
    "# print positive percentage\n",
    "print(sum(labels.values()) / len(labels))"
   ]
  },
  {
   "cell_type": "code",
   "execution_count": 9,
   "id": "configured-dealer",
   "metadata": {},
   "outputs": [
    {
     "name": "stdout",
     "output_type": "stream",
     "text": [
      "39785\n",
      "39306\n",
      "39785\n"
     ]
    }
   ],
   "source": [
    "print(len(labels))\n",
    "print(len(set(demographics.hadm_id)))\n",
    "print(len(set(cohort.hadm_id)))\n"
   ]
  },
  {
   "cell_type": "code",
   "execution_count": 10,
   "id": "flying-facial",
   "metadata": {},
   "outputs": [
    {
     "name": "stdout",
     "output_type": "stream",
     "text": [
      "White           3492/27251 (0.128)\n",
      "Not Specified    421/ 3330 (0.126)\n",
      "Black            371/ 3324 (0.112)\n",
      "Other            171/ 2375 (0.072)\n",
      "Hispanic          81/ 1491 (0.054)\n",
      "Asian            104/ 1494 (0.070)\n",
      "Native American    0/   41 (0.000)\n"
     ]
    }
   ],
   "source": [
    "for race in ['White', 'Not Specified', 'Black', 'Other', 'Hispanic', 'Asian', 'Native American']:\n",
    "    rows = demographics[demographics.race==race]\n",
    "    group_ids = list(set(rows.hadm_id))\n",
    "    group_labels   = [labels[pid] for pid in group_ids]\n",
    "    print(f'{race:15} {sum(group_labels):4}/{len(group_labels):5} ({sum(group_labels)/len(group_labels):.3f})')"
   ]
  },
  {
   "cell_type": "code",
   "execution_count": 11,
   "id": "absent-instruction",
   "metadata": {},
   "outputs": [
    {
     "name": "stdout",
     "output_type": "stream",
     "text": [
      "(390100, 2)\n",
      "39779\n"
     ]
    },
    {
     "data": {
      "text/html": [
       "<div>\n",
       "<style scoped>\n",
       "    .dataframe tbody tr th:only-of-type {\n",
       "        vertical-align: middle;\n",
       "    }\n",
       "\n",
       "    .dataframe tbody tr th {\n",
       "        vertical-align: top;\n",
       "    }\n",
       "\n",
       "    .dataframe thead th {\n",
       "        text-align: right;\n",
       "    }\n",
       "</style>\n",
       "<table border=\"1\" class=\"dataframe\">\n",
       "  <thead>\n",
       "    <tr style=\"text-align: right;\">\n",
       "      <th></th>\n",
       "      <th>hadm_id</th>\n",
       "      <th>icd9_code</th>\n",
       "    </tr>\n",
       "  </thead>\n",
       "  <tbody>\n",
       "    <tr>\n",
       "      <th>33</th>\n",
       "      <td>109976</td>\n",
       "      <td>1915</td>\n",
       "    </tr>\n",
       "    <tr>\n",
       "      <th>34</th>\n",
       "      <td>109976</td>\n",
       "      <td>3314</td>\n",
       "    </tr>\n",
       "    <tr>\n",
       "      <th>35</th>\n",
       "      <td>109976</td>\n",
       "      <td>53081</td>\n",
       "    </tr>\n",
       "    <tr>\n",
       "      <th>36</th>\n",
       "      <td>178393</td>\n",
       "      <td>41401</td>\n",
       "    </tr>\n",
       "    <tr>\n",
       "      <th>37</th>\n",
       "      <td>178393</td>\n",
       "      <td>4111</td>\n",
       "    </tr>\n",
       "  </tbody>\n",
       "</table>\n",
       "</div>"
      ],
      "text/plain": [
       "    hadm_id icd9_code\n",
       "33   109976      1915\n",
       "34   109976      3314\n",
       "35   109976     53081\n",
       "36   178393     41401\n",
       "37   178393      4111"
      ]
     },
     "execution_count": 11,
     "metadata": {},
     "output_type": "execute_result"
    }
   ],
   "source": [
    "# Get ICD codes\n",
    "icd_query = '''\n",
    "select icd.hadm_id, icd.icd9_code\n",
    "from mimiciii.DIAGNOSES_ICD icd\n",
    "inner join mimiciii.d_icd_diagnoses d on d.icd9_code = icd.icd9_code\n",
    "--limit 500\n",
    "'''\n",
    "icd_df = pd.read_sql_query(icd_query, con)\n",
    "icd_df = icd_df[icd_df.hadm_id.isin(set(cohort.hadm_id))]\n",
    "print(icd_df.shape)\n",
    "print(len(set(icd_df.hadm_id)))\n",
    "icd_df.head()"
   ]
  },
  {
   "cell_type": "code",
   "execution_count": 12,
   "id": "dominant-thesis",
   "metadata": {},
   "outputs": [
    {
     "data": {
      "text/plain": [
       "{'01166': 'Tuberculous pneumonia [any form], tubercle bacilli not found by bacteriological or histological examination, but tuberculosis confirmed by other methods [inoculation of animals]',\n",
       " '01170': 'Tuberculous pneumothorax, unspecified',\n",
       " '01171': 'Tuberculous pneumothorax, bacteriological or histological examination not done'}"
      ]
     },
     "execution_count": 12,
     "metadata": {},
     "output_type": "execute_result"
    }
   ],
   "source": [
    "d_icd = pd.read_sql_query('select * from mimiciii.d_icd_diagnoses', con)\n",
    "icd_lookup = dict(d_icd[['icd9_code','long_title']].values)\n",
    "#icd_lookup = {str(k):v for k,v in icd_df[['icd9_code','short_title']].values}\n",
    "dict(list(icd_lookup.items())[:3])"
   ]
  },
  {
   "cell_type": "code",
   "execution_count": 13,
   "id": "manufactured-statement",
   "metadata": {},
   "outputs": [
    {
     "data": {
      "text/plain": [
       "(0.0, 750.0, 0.0, 1000.0)"
      ]
     },
     "execution_count": 13,
     "metadata": {},
     "output_type": "execute_result"
    },
    {
     "data": {
      "image/png": "[encoded data removed]",
      "text/plain": [
       "<Figure size 432x288 with 1 Axes>"
      ]
     },
     "metadata": {
      "needs_background": "light"
     },
     "output_type": "display_data"
    }
   ],
   "source": [
    "# Frequency of ICDs\n",
    "icd_freq = Counter(icd_df.icd9_code)\n",
    "\n",
    "pl.hist(icd_freq.values(), bins=2000)\n",
    "pl.axis([0, 750, 0, 1000])"
   ]
  },
  {
   "cell_type": "code",
   "execution_count": 14,
   "id": "imported-retro",
   "metadata": {},
   "outputs": [
    {
     "name": "stderr",
     "output_type": "stream",
     "text": [
      "100%|██████████| 39779/39779 [00:47<00:00, 832.19it/s]"
     ]
    },
    {
     "name": "stdout",
     "output_type": "stream",
     "text": [
      "39779\n"
     ]
    },
    {
     "name": "stderr",
     "output_type": "stream",
     "text": [
      "\n"
     ]
    }
   ],
   "source": [
    "features = {}\n",
    "for hadm_id,rows in tqdm.tqdm(icd_df.groupby('hadm_id')):\n",
    "    feats = {}\n",
    "    \n",
    "    # ICD features\n",
    "    for icd in rows.icd9_code:\n",
    "        if icd_freq[icd] > 5:\n",
    "            feats[icd] = 1\n",
    "            \n",
    "    # demographic features\n",
    "    drows = demographics[demographics.hadm_id==hadm_id]\n",
    "    if len(drows):\n",
    "        feats[    f'race={drows.race.values[0]}'] = 1\n",
    "        feats[f'gender={drows.gender.values[0]}'] = 1\n",
    "        pass\n",
    "    \n",
    "    crows = cohort[cohort.hadm_id==hadm_id]\n",
    "    feats['age'] = (crows.admittime.values[0] - crows.dob.values[0]) / (np.timedelta64(1, 'D') * 365.25)\n",
    "    \n",
    "    features[hadm_id] = feats\n",
    "    \n",
    "print(len(features))"
   ]
  },
  {
   "cell_type": "markdown",
   "id": "nasty-chaos",
   "metadata": {},
   "source": [
    "# ML Model"
   ]
  },
  {
   "cell_type": "code",
   "execution_count": 16,
   "id": "prerequisite-child",
   "metadata": {},
   "outputs": [
    {
     "name": "stdout",
     "output_type": "stream",
     "text": [
      "27845 11934\n"
     ]
    }
   ],
   "source": [
    "ids = list(set(features.keys()) & set(labels.keys()))\n",
    "random.shuffle(ids)\n",
    "\n",
    "ind = int(0.7 * len(ids))\n",
    "train_ids = ids[:ind]\n",
    "test_ids  = ids[ ind:]\n",
    "\n",
    "print(len(train_ids), len(test_ids))"
   ]
  },
  {
   "cell_type": "code",
   "execution_count": 17,
   "id": "corresponding-sellers",
   "metadata": {},
   "outputs": [],
   "source": [
    "train_features = [features[hadmid] for hadmid in train_ids]\n",
    "test_features  = [features[hadmid] for hadmid in  test_ids]\n",
    "\n",
    "train_labels = [labels[hadmid] for hadmid in train_ids]\n",
    "test_labels  = [labels[hadmid] for hadmid in  test_ids]"
   ]
  },
  {
   "cell_type": "code",
   "execution_count": 18,
   "id": "adequate-wildlife",
   "metadata": {},
   "outputs": [
    {
     "data": {
      "text/plain": [
       "DictVectorizer()"
      ]
     },
     "execution_count": 18,
     "metadata": {},
     "output_type": "execute_result"
    }
   ],
   "source": [
    "vect = DictVectorizer()\n",
    "vect.fit(train_features)"
   ]
  },
  {
   "cell_type": "code",
   "execution_count": 19,
   "id": "complete-difficulty",
   "metadata": {},
   "outputs": [
    {
     "name": "stdout",
     "output_type": "stream",
     "text": [
      "(27845, 3026)\n",
      "(11934, 3026)\n"
     ]
    }
   ],
   "source": [
    "train_X = vect.transform(train_features)\n",
    "test_X  = vect.transform( test_features)\n",
    "\n",
    "print(train_X.shape)\n",
    "print(test_X.shape)"
   ]
  },
  {
   "cell_type": "code",
   "execution_count": 20,
   "id": "through-winter",
   "metadata": {},
   "outputs": [
    {
     "name": "stderr",
     "output_type": "stream",
     "text": [
      "/afs/csail.mit.edu/u/w/wboag/.conda/envs/wb/lib/python3.9/site-packages/xgboost/sklearn.py:1224: UserWarning: The use of label encoder in XGBClassifier is deprecated and will be removed in a future release. To remove this warning, do the following: 1) Pass option use_label_encoder=False when constructing XGBClassifier object; and 2) Encode your labels (y) as integers starting with 0, i.e. 0, 1, 2, ..., [num_class - 1].\n",
      "  warnings.warn(label_encoder_deprecation_msg, UserWarning)\n"
     ]
    },
    {
     "data": {
      "text/plain": [
       "XGBClassifier(base_score=0.5, booster='gbtree', colsample_bylevel=1,\n",
       "              colsample_bynode=1, colsample_bytree=1, enable_categorical=False,\n",
       "              eval_metric='logloss', gamma=0, gpu_id=-1, importance_type=None,\n",
       "              interaction_constraints='', learning_rate=0.300000012,\n",
       "              max_delta_step=0, max_depth=6, min_child_weight=1, missing=nan,\n",
       "              monotone_constraints='()', n_estimators=100, n_jobs=32,\n",
       "              num_parallel_tree=1, predictor='auto', random_state=0,\n",
       "              reg_alpha=0, reg_lambda=1, scale_pos_weight=1, subsample=1,\n",
       "              tree_method='exact', validate_parameters=1, verbosity=None)"
      ]
     },
     "execution_count": 20,
     "metadata": {},
     "output_type": "execute_result"
    }
   ],
   "source": [
    "xgb = xgboost.XGBClassifier(eval_metric='logloss')\n",
    "xgb.fit(train_X, train_labels)"
   ]
  },
  {
   "cell_type": "markdown",
   "id": "bearing-astrology",
   "metadata": {},
   "source": [
    "# Evaluation"
   ]
  },
  {
   "cell_type": "code",
   "execution_count": 21,
   "id": "portuguese-respect",
   "metadata": {},
   "outputs": [],
   "source": [
    "def evaluate_performance(labels, preds, thr=None):\n",
    "    #print('AAA:', len(labels), len(preds))\n",
    "    \n",
    "    if not thr:\n",
    "        n = int(0.9*len(preds))\n",
    "        thr = sorted(preds)[n]\n",
    "        \n",
    "    preds_thr = [int(p>=thr) for p in preds]\n",
    "    \n",
    "    # confusion matrix\n",
    "    tp,fp,fn,tn = 0,0,0,0\n",
    "    for ref,pred in zip(labels,preds_thr):\n",
    "        if   ref==0 and pred==0: tn += 1\n",
    "        elif ref==0 and pred==1: fp += 1\n",
    "        elif ref==1 and pred==0: fn += 1\n",
    "        elif ref==1 and pred==1: tp += 1\n",
    "    conf = {'TP':tp, 'FP':fp, 'FN':fn, 'TN':tn}\n",
    "    recall    = float(tp) / (tp+fn+1e-9)\n",
    "    precision = float(tp) / (tp+fp+1e-9)\n",
    "    #print(conf)\n",
    "    #print(recall)\n",
    "    \n",
    "    # AUC\n",
    "    #print(labels)\n",
    "    #print(preds)\n",
    "    auc = roc_auc_score(labels, preds)\n",
    "            \n",
    "    results = {'recall':recall, 'precision':precision, 'auc':auc, 'conf':conf}\n",
    "    return results"
   ]
  },
  {
   "cell_type": "code",
   "execution_count": 22,
   "id": "bound-honduras",
   "metadata": {},
   "outputs": [
    {
     "name": "stdout",
     "output_type": "stream",
     "text": [
      "(11934,)\n"
     ]
    }
   ],
   "source": [
    "test_pred = xgb.predict_proba(test_X)[:,1]\n",
    "\n",
    "print(test_pred.shape)"
   ]
  },
  {
   "cell_type": "code",
   "execution_count": 23,
   "id": "minimal-tooth",
   "metadata": {},
   "outputs": [
    {
     "data": {
      "image/png": "[encoded data removed]",
      "text/plain": [
       "<Figure size 432x288 with 1 Axes>"
      ]
     },
     "metadata": {
      "needs_background": "light"
     },
     "output_type": "display_data"
    }
   ],
   "source": [
    "pl.hist(test_pred, bins=20)\n",
    "pl.show()"
   ]
  },
  {
   "cell_type": "code",
   "execution_count": 24,
   "id": "preceding-birmingham",
   "metadata": {},
   "outputs": [
    {
     "data": {
      "image/png": "[encoded data removed]",
      "text/plain": [
       "<Figure size 432x288 with 1 Axes>"
      ]
     },
     "metadata": {
      "needs_background": "light"
     },
     "output_type": "display_data"
    }
   ],
   "source": [
    "# reliability diagram\n",
    "fop, mpv = calibration_curve(test_labels, test_pred, n_bins=20)\n",
    "# plot perfectly calibrated\n",
    "pl.plot([0, 1], [0, 1], linestyle='--')\n",
    "# plot model reliability\n",
    "pl.plot(mpv, fop, marker='.')\n",
    "pl.show()"
   ]
  },
  {
   "cell_type": "code",
   "execution_count": 25,
   "id": "presidential-adrian",
   "metadata": {},
   "outputs": [
    {
     "data": {
      "text/plain": [
       "0.8742695138827192"
      ]
     },
     "execution_count": 25,
     "metadata": {},
     "output_type": "execute_result"
    }
   ],
   "source": [
    "# Overall AUC\n",
    "roc_auc_score(test_labels, test_pred)"
   ]
  },
  {
   "cell_type": "code",
   "execution_count": 26,
   "id": "hundred-energy",
   "metadata": {},
   "outputs": [
    {
     "name": "stdout",
     "output_type": "stream",
     "text": [
      "White           (n=8215) R=450/1006(0.447)   P=450/ 902(0.499)   AUC=0.867\n"
     ]
    },
    {
     "data": {
      "image/png": "[encoded data removed]",
      "text/plain": [
       "<Figure size 432x288 with 1 Axes>"
      ]
     },
     "metadata": {
      "needs_background": "light"
     },
     "output_type": "display_data"
    },
    {
     "name": "stdout",
     "output_type": "stream",
     "text": [
      "Not Specified   (n= 978) R= 41/ 130(0.315)   P= 41/  85(0.482)   AUC=0.853\n"
     ]
    },
    {
     "data": {
      "image/png": "[encoded data removed]",
      "text/plain": [
       "<Figure size 432x288 with 1 Axes>"
      ]
     },
     "metadata": {
      "needs_background": "light"
     },
     "output_type": "display_data"
    },
    {
     "name": "stdout",
     "output_type": "stream",
     "text": [
      "Black           (n=1010) R= 50/ 110(0.455)   P= 50/  92(0.543)   AUC=0.874\n"
     ]
    },
    {
     "data": {
      "image/png": "[encoded data removed]",
      "text/plain": [
       "<Figure size 432x288 with 1 Axes>"
      ]
     },
     "metadata": {
      "needs_background": "light"
     },
     "output_type": "display_data"
    },
    {
     "name": "stdout",
     "output_type": "stream",
     "text": [
      "Other           (n= 685) R= 19/  50(0.380)   P= 19/  42(0.452)   AUC=0.901\n"
     ]
    },
    {
     "data": {
      "image/png": "[encoded data removed]",
      "text/plain": [
       "<Figure size 432x288 with 1 Axes>"
      ]
     },
     "metadata": {
      "needs_background": "light"
     },
     "output_type": "display_data"
    },
    {
     "name": "stdout",
     "output_type": "stream",
     "text": [
      "Hispanic        (n= 453) R=  9/  21(0.429)   P=  9/  22(0.409)   AUC=0.939\n"
     ]
    },
    {
     "data": {
      "image/png": "[encoded data removed]",
      "text/plain": [
       "<Figure size 432x288 with 1 Axes>"
      ]
     },
     "metadata": {
      "needs_background": "light"
     },
     "output_type": "display_data"
    },
    {
     "name": "stdout",
     "output_type": "stream",
     "text": [
      "Asian           (n= 459) R= 20/  33(0.606)   P= 20/  35(0.571)   AUC=0.947\n"
     ]
    },
    {
     "data": {
      "image/png": "[encoded data removed]",
      "text/plain": [
       "<Figure size 432x288 with 1 Axes>"
      ]
     },
     "metadata": {
      "needs_background": "light"
     },
     "output_type": "display_data"
    }
   ],
   "source": [
    "# Per race recall @ top-10%\n",
    "n = int(0.9*len(test_pred))\n",
    "thr = sorted(test_pred)[n]\n",
    "\n",
    "test_demographics = demographics[demographics.hadm_id.isin(test_ids)]\n",
    "for race in ['White', 'Not Specified', 'Black', 'Other', 'Hispanic', 'Asian']:\n",
    "    #print(race)\n",
    "    #display(rows)\n",
    "    rows = test_demographics[test_demographics.race==race]\n",
    "    group_ids = list(set(rows.hadm_id))\n",
    "    group_features = [features[pid] for pid in group_ids]\n",
    "    group_X = vect.transform(group_features)\n",
    "    group_labels   = [labels[pid]   for pid in group_ids]\n",
    "    group_pred = xgb.predict_proba(group_X) [:,1]\n",
    "    \n",
    "    results = evaluate_performance(group_labels, group_pred, thr=thr)\n",
    "    conf = results['conf']\n",
    "    tp,fp,fn,tn = conf['TP'], conf['FP'], conf['FN'], conf['TN']\n",
    "    auc       = results['auc']\n",
    "    precision = results['precision']\n",
    "    recall    = results['recall']\n",
    "    \n",
    "    print(f'{race:15} (n={len(group_ids):4}) R={tp:3d}/{tp+fn:4}({recall:.3f})   P={tp:3d}/{tp+fp:4}({precision:.3f})   AUC={auc:.3f}')\n",
    "\n",
    "    # reliability diagram\n",
    "    fop, mpv = calibration_curve(group_labels, group_pred, n_bins=20)\n",
    "    # plot perfectly calibrated\n",
    "    pl.plot([0, 1], [0, 1], linestyle='--')\n",
    "    # plot model reliability\n",
    "    pl.plot(mpv, fop, marker='.')\n",
    "    pl.show()\n",
    "    \n",
    "    #break"
   ]
  },
  {
   "cell_type": "code",
   "execution_count": 27,
   "id": "prescription-halifax",
   "metadata": {},
   "outputs": [
    {
     "name": "stdout",
     "output_type": "stream",
     "text": [
      "[157.8 ] [Malignant neoplasm of other specified sites of pan  ]: 1.0107442856991264\n",
      "[191.2 ] [Malignant neoplasm of temporal lobe                 ]: 0.8838395639912784\n",
      "[155.1 ] [Malignant neoplasm of intrahepatic bile ducts       ]: 0.8428394995942319\n",
      "[191.9 ] [Malignant neoplasm of brain, unspecified            ]: 0.7885061453822193\n",
      "[191.3 ] [Malignant neoplasm of parietal lobe                 ]: 0.7856818795122197\n",
      "[996.75] [Other complications due to nervous system device,   ]: 0.7437462162267412\n",
      "[191.4 ] [Malignant neoplasm of occipital lobe                ]: 0.7388599278705239\n",
      "[156.1 ] [Malignant neoplasm of extrahepatic bile ducts       ]: 0.7160517063008455\n",
      "[191.1 ] [Malignant neoplasm of frontal lobe                  ]: 0.705150617689962\n",
      "[730.25] [Unspecified osteomyelitis, pelvic region and thigh  ]: 0.680661007721309\n",
      "[996.85] [Complications of transplanted bone marrow           ]: 0.6764544479744641\n",
      "[289.82] [Secondary hypercoagulable state                     ]: 0.6550040883298405\n",
      "[238.75] [Myelodysplastic syndrome, unspecified               ]: 0.6406132214966742\n",
      "[273.2 ] [Other paraproteinemias                              ]: 0.6391997479692924\n",
      "[162.8 ] [Malignant neoplasm of other parts of bronchus or l  ]: 0.6371014967857521\n",
      "[E95.02] [Suicide and self-inflicted poisoning by other seda  ]: 0.6180643067310708\n",
      "[520.6 ] [Disturbances in tooth eruption                      ]: 0.617625274025048\n",
      "[V01.1 ] [Contact with or exposure to tuberculosis            ]: 0.6130576373482081\n",
      "[162.2 ] [Malignant neoplasm of main bronchus                 ]: 0.6118889097398013\n",
      "[198.3 ] [Secondary malignant neoplasm of brain and spinal c  ]: 0.6100466378876844\n",
      "[335.20] [Amyotrophic lateral sclerosis                       ]: 0.6067324443970288\n",
      "[155.0 ] [Malignant neoplasm of liver, primary                ]: 0.6061601995439398\n",
      "[157.0 ] [Malignant neoplasm of head of pancreas              ]: 0.5917604606884453\n",
      "[191.8 ] [Malignant neoplasm of other parts of brain          ]: 0.5853264328145141\n",
      "[172.9 ] [Melanoma of skin, site unspecified                  ]: 0.5635760970019623\n",
      "\n",
      "\n",
      "[233.0 ] [Carcinoma in situ of breast                         ]: -0.4822689405179005\n",
      "[574.31] [Calculus of bile duct with acute cholecystitis, wi  ]: -0.482748340638924\n",
      "[756.79] [Other congenital anomalies of abdominal wall        ]: -0.48462489475535925\n",
      "[130.7 ] [Toxoplasmosis of other specified sites              ]: -0.48519662840672134\n",
      "[580.89] [Acute glomerulonephritis with other specified path  ]: -0.4865337112645763\n",
      "[789.2 ] [Splenomegaly                                        ]: -0.4878378163130234\n",
      "[571.49] [Other chronic hepatitis                             ]: -0.4895526653701082\n",
      "[V05.3 ] [Need for prophylactic vaccination and inoculation   ]: -0.49229609377544936\n",
      "[E85.29] [Accidental poisoning by unspecified sedative or hy  ]: -0.49684070234340344\n",
      "[719.46] [Pain in joint, lower leg                            ]: -0.4968911411355724\n",
      "[E94.11] [Parasympatholytics [anticholinergics and antimusca  ]: -0.5048293379920628\n",
      "[278.03] [Obesity hypoventilation syndrome                    ]: -0.5081350896041464\n",
      "[724.4 ] [Thoracic or lumbosacral neuritis or radiculitis, u  ]: -0.5115518976930403\n",
      "[523.40] [Chronic periodontitis, unspecified                  ]: -0.5282032780048573\n",
      "[289.59] [Other diseases of spleen                            ]: -0.5285809646772434\n",
      "[V45.85] [Insulin pump status                                 ]: -0.5293352848854637\n",
      "[V58.12] [Encounter for antineoplastic immunotherapy          ]: -0.5296773906918824\n",
      "[211.1 ] [Benign neoplasm of stomach                          ]: -0.5451796720253931\n",
      "[344.89] [Other specified paralytic syndrome                  ]: -0.5507659933633561\n",
      "[796.3 ] [Nonspecific low blood pressure reading              ]: -0.5746018554166646\n",
      "[E98.03] [Poisoning by tranquilizers and other psychotropic   ]: -0.5806356393853895\n",
      "[599.72] [Microscopic hematuria                               ]: -0.6130702436755808\n",
      "[991.6 ] [Hypothermia                                         ]: -0.6176734215875316\n",
      "[296.50] [Bipolar I disorder, most recent episode (or curren  ]: -0.6218523022107585\n",
      "[730.05] [Acute osteomyelitis, pelvic region and thigh        ]: -0.633551345325698\n"
     ]
    },
    {
     "name": "stderr",
     "output_type": "stream",
     "text": [
      "/afs/csail.mit.edu/u/w/wboag/.conda/envs/wb/lib/python3.9/site-packages/sklearn/svm/_base.py:985: ConvergenceWarning: Liblinear failed to converge, increase the number of iterations.\n",
      "  warnings.warn(\"Liblinear failed to converge, increase \"\n"
     ]
    }
   ],
   "source": [
    "# Most informative features\n",
    "svm = LinearSVC()\n",
    "svm.fit(train_X, train_labels)\n",
    "\n",
    "# map the dimensions to names\n",
    "ind2feat =  { i:f for f,i in vect.vocabulary_.items() }\n",
    "\n",
    "# create a 2-by-m matrix for biary, rather than relying on 1-p bullshit\n",
    "coef_ = svm.coef_[0,:]\n",
    "\n",
    "# most informative features\n",
    "informative_feats = np.argsort(coef_)\n",
    "\n",
    "#'''\n",
    "# display what each feature is\n",
    "for dim in list(reversed(informative_feats))[:25]:\n",
    "    val = coef_[dim]\n",
    "\n",
    "    word = ind2feat[dim]\n",
    "    desc = icd_lookup[word]\n",
    "    print(f'[{word[:3]+\".\"+word[3:]:6s}] [{desc[:50]:52}]: {val}')\n",
    "    \n",
    "print('\\n')\n",
    "\n",
    "for dim in list(reversed(informative_feats))[-25:]:\n",
    "    val = coef_[dim]\n",
    "\n",
    "    word = ind2feat[dim]\n",
    "    desc = icd_lookup[word]\n",
    "    print(f'[{word[:3]+\".\"+word[3:]:6s}] [{desc[:50]:52}]: {val}')"
   ]
  },
  {
   "cell_type": "code",
   "execution_count": 28,
   "id": "rental-martin",
   "metadata": {},
   "outputs": [
    {
     "name": "stdout",
     "output_type": "stream",
     "text": [
      "[157.8 ] [Malignant neoplasm of other specified sites of pan  ] mort=20/27 (0.741)\n",
      "\tAsian          : n=1\n",
      "\tBlack          : n=1\n",
      "\tNot Specified  : n=1\n",
      "\tOther          : n=1\n",
      "\tWhite          : n=23\n",
      "[191.2 ] [Malignant neoplasm of temporal lobe                 ] mort=14/26 (0.538)\n",
      "\tBlack          : n=1\n",
      "\tNot Specified  : n=1\n",
      "\tOther          : n=2\n",
      "\tWhite          : n=16\n",
      "[155.1 ] [Malignant neoplasm of intrahepatic bile ducts       ] mort=17/26 (0.654)\n",
      "\tAsian          : n=4\n",
      "\tHispanic       : n=1\n",
      "\tOther          : n=2\n",
      "\tWhite          : n=19\n",
      "[191.9 ] [Malignant neoplasm of brain, unspecified            ] mort=10/19 (0.526)\n",
      "\tAsian          : n=2\n",
      "\tBlack          : n=1\n",
      "\tNot Specified  : n=2\n",
      "\tOther          : n=2\n",
      "\tWhite          : n=9\n",
      "[191.3 ] [Malignant neoplasm of parietal lobe                 ] mort= 7/18 (0.389)\n",
      "\tHispanic       : n=1\n",
      "\tOther          : n=1\n",
      "\tWhite          : n=14\n",
      "[996.75] [Other complications due to nervous system device,   ] mort= 3/ 7 (0.429)\n",
      "\tOther          : n=1\n",
      "\tWhite          : n=6\n",
      "[191.4 ] [Malignant neoplasm of occipital lobe                ] mort= 3/ 4 (0.75)\n",
      "\tWhite          : n=4\n",
      "[156.1 ] [Malignant neoplasm of extrahepatic bile ducts       ] mort=11/16 (0.688)\n",
      "\tBlack          : n=1\n",
      "\tNot Specified  : n=1\n",
      "\tOther          : n=2\n",
      "\tWhite          : n=12\n",
      "[191.1 ] [Malignant neoplasm of frontal lobe                  ] mort=11/34 (0.324)\n",
      "\tAsian          : n=1\n",
      "\tHispanic       : n=1\n",
      "\tOther          : n=5\n",
      "\tWhite          : n=26\n",
      "[730.25] [Unspecified osteomyelitis, pelvic region and thigh  ] mort= 3/ 4 (0.75)\n",
      "\tWhite          : n=4\n",
      "[996.85] [Complications of transplanted bone marrow           ] mort= 7/15 (0.467)\n",
      "\tAsian          : n=1\n",
      "\tBlack          : n=1\n",
      "\tHispanic       : n=1\n",
      "\tOther          : n=1\n",
      "\tWhite          : n=11\n",
      "[289.82] [Secondary hypercoagulable state                     ] mort= 3/ 6 (0.5)\n",
      "\tBlack          : n=1\n",
      "\tOther          : n=1\n",
      "\tWhite          : n=4\n",
      "[238.75] [Myelodysplastic syndrome, unspecified               ] mort=23/60 (0.383)\n",
      "\tHispanic       : n=2\n",
      "\tNot Specified  : n=2\n",
      "\tOther          : n=4\n",
      "\tWhite          : n=52\n",
      "[273.2 ] [Other paraproteinemias                              ] mort= 4/10 (0.4)\n",
      "\tBlack          : n=2\n",
      "\tHispanic       : n=1\n",
      "\tNot Specified  : n=2\n",
      "\tWhite          : n=5\n",
      "[162.8 ] [Malignant neoplasm of other parts of bronchus or l  ] mort=87/131 (0.664)\n",
      "\tAsian          : n=4\n",
      "\tBlack          : n=8\n",
      "\tHispanic       : n=1\n",
      "\tNot Specified  : n=10\n",
      "\tOther          : n=5\n",
      "\tWhite          : n=103\n",
      "[E95.02] [Suicide and self-inflicted poisoning by other seda  ] mort= 1/ 6 (0.167)\n",
      "\tOther          : n=1\n",
      "\tWhite          : n=5\n",
      "[520.6 ] [Disturbances in tooth eruption                      ] mort= 2/ 6 (0.333)\n",
      "\tHispanic       : n=1\n",
      "\tNot Specified  : n=1\n",
      "\tOther          : n=1\n",
      "\tWhite          : n=3\n",
      "[V01.1 ] [Contact with or exposure to tuberculosis            ] mort= 3/ 7 (0.429)\n",
      "\tAsian          : n=2\n",
      "\tHispanic       : n=1\n",
      "\tWhite          : n=4\n",
      "[162.2 ] [Malignant neoplasm of main bronchus                 ] mort=13/20 (0.65)\n",
      "\tAsian          : n=1\n",
      "\tBlack          : n=1\n",
      "\tNot Specified  : n=1\n",
      "\tOther          : n=3\n",
      "\tWhite          : n=14\n",
      "[198.3 ] [Secondary malignant neoplasm of brain and spinal c  ] mort=181/277 (0.653)\n",
      "\tAsian          : n=4\n",
      "\tBlack          : n=12\n",
      "\tHispanic       : n=4\n",
      "\tNot Specified  : n=12\n",
      "\tOther          : n=10\n",
      "\tWhite          : n=223\n",
      "[335.20] [Amyotrophic lateral sclerosis                       ] mort= 9/18 (0.5)\n",
      "\tAsian          : n=1\n",
      "\tBlack          : n=4\n",
      "\tNot Specified  : n=2\n",
      "\tOther          : n=1\n",
      "\tWhite          : n=10\n",
      "[155.0 ] [Malignant neoplasm of liver, primary                ] mort=53/115 (0.461)\n",
      "\tAsian          : n=15\n",
      "\tBlack          : n=7\n",
      "\tHispanic       : n=6\n",
      "\tNot Specified  : n=1\n",
      "\tOther          : n=10\n",
      "\tWhite          : n=75\n",
      "[157.0 ] [Malignant neoplasm of head of pancreas              ] mort=26/54 (0.481)\n",
      "\tBlack          : n=3\n",
      "\tNot Specified  : n=6\n",
      "\tOther          : n=1\n",
      "\tWhite          : n=43\n",
      "[191.8 ] [Malignant neoplasm of other parts of brain          ] mort= 7/18 (0.389)\n",
      "\tOther          : n=1\n",
      "\tWhite          : n=17\n",
      "[172.9 ] [Melanoma of skin, site unspecified                  ] mort= 7/10 (0.7)\n",
      "\tWhite          : n=10\n"
     ]
    }
   ],
   "source": [
    "for dim in list(reversed(informative_feats))[:25]:\n",
    "    word = ind2feat[dim]\n",
    "    desc = icd_lookup[word]\n",
    "    \n",
    "    # Look at prevalance in W vs B population\n",
    "    pt_nums = train_X[:,dim].nonzero()[0]\n",
    "    hadm_ids = [train_ids[ptnum] for ptnum in pt_nums]\n",
    "    group_labels = [labels[hadm_id] for hadm_id in hadm_ids]\n",
    "    frac_mort = float(sum(group_labels)) / len(group_labels)\n",
    "    group_demographics = demographics[demographics.hadm_id.isin(hadm_ids)]\n",
    "\n",
    "    print(f'[{word[:3]+\".\"+word[3:]:6s}] [{desc[:50]:52}] mort={sum(group_labels):2}/{len(group_labels):2} ({frac_mort:.3})')\n",
    "    for race,rows in group_demographics.groupby('race'):\n",
    "        print(f'\\t{race:15}: n={len(rows)}')\n",
    "    #display(group_demographics)\n",
    "    \n",
    "    #break"
   ]
  },
  {
   "cell_type": "code",
   "execution_count": 29,
   "id": "experienced-contractor",
   "metadata": {},
   "outputs": [
    {
     "name": "stdout",
     "output_type": "stream",
     "text": [
      "[233.0 ] [Carcinoma in situ of breast                         ] mort= 0/10 (0.0)\n",
      "\tBlack          : n=4\n",
      "\tNot Specified  : n=1\n",
      "\tOther          : n=2\n",
      "\tWhite          : n=2\n",
      "[574.31] [Calculus of bile duct with acute cholecystitis, wi  ] mort= 0/12 (0.0)\n",
      "\tBlack          : n=1\n",
      "\tNot Specified  : n=3\n",
      "\tWhite          : n=7\n",
      "[756.79] [Other congenital anomalies of abdominal wall        ] mort= 0/14 (0.0)\n",
      "\tAsian          : n=1\n",
      "\tBlack          : n=1\n",
      "\tNot Specified  : n=1\n",
      "\tWhite          : n=11\n",
      "[130.7 ] [Toxoplasmosis of other specified sites              ] mort= 0/ 6 (0.0)\n",
      "\tBlack          : n=2\n",
      "\tHispanic       : n=1\n",
      "\tWhite          : n=3\n",
      "[580.89] [Acute glomerulonephritis with other specified path  ] mort= 1/22 (0.0455)\n",
      "\tBlack          : n=2\n",
      "\tOther          : n=3\n",
      "\tWhite          : n=17\n",
      "[789.2 ] [Splenomegaly                                        ] mort= 1/31 (0.0323)\n",
      "\tAsian          : n=1\n",
      "\tBlack          : n=1\n",
      "\tHispanic       : n=1\n",
      "\tOther          : n=3\n",
      "\tWhite          : n=24\n",
      "[571.49] [Other chronic hepatitis                             ] mort= 1/13 (0.0769)\n",
      "\tHispanic       : n=2\n",
      "\tOther          : n=1\n",
      "\tWhite          : n=8\n",
      "[V05.3 ] [Need for prophylactic vaccination and inoculation   ] mort= 0/3949 (0.0)\n",
      "\tAsian          : n=448\n",
      "\tBlack          : n=481\n",
      "\tHispanic       : n=204\n",
      "\tNative American: n=14\n",
      "\tNot Specified  : n=204\n",
      "\tOther          : n=297\n",
      "\tWhite          : n=2293\n",
      "[E85.29] [Accidental poisoning by unspecified sedative or hy  ] mort= 0/ 8 (0.0)\n",
      "\tBlack          : n=2\n",
      "\tWhite          : n=6\n",
      "[719.46] [Pain in joint, lower leg                            ] mort= 1/34 (0.0294)\n",
      "\tBlack          : n=6\n",
      "\tHispanic       : n=2\n",
      "\tNot Specified  : n=1\n",
      "\tOther          : n=3\n",
      "\tWhite          : n=22\n",
      "[E94.11] [Parasympatholytics [anticholinergics and antimusca  ] mort= 0/ 9 (0.0)\n",
      "\tOther          : n=1\n",
      "\tWhite          : n=8\n",
      "[278.03] [Obesity hypoventilation syndrome                    ] mort= 3/38 (0.0789)\n",
      "\tBlack          : n=9\n",
      "\tHispanic       : n=1\n",
      "\tNot Specified  : n=1\n",
      "\tOther          : n=4\n",
      "\tWhite          : n=23\n",
      "[724.4 ] [Thoracic or lumbosacral neuritis or radiculitis, u  ] mort= 0/18 (0.0)\n",
      "\tBlack          : n=3\n",
      "\tHispanic       : n=1\n",
      "\tOther          : n=1\n",
      "\tWhite          : n=13\n",
      "[523.40] [Chronic periodontitis, unspecified                  ] mort= 0/ 4 (0.0)\n",
      "\tBlack          : n=1\n",
      "\tHispanic       : n=1\n",
      "\tWhite          : n=2\n",
      "[289.59] [Other diseases of spleen                            ] mort= 3/41 (0.0732)\n",
      "\tBlack          : n=1\n",
      "\tHispanic       : n=4\n",
      "\tOther          : n=1\n",
      "\tWhite          : n=35\n",
      "[V45.85] [Insulin pump status                                 ] mort= 0/33 (0.0)\n",
      "\tOther          : n=2\n",
      "\tWhite          : n=28\n",
      "[V58.12] [Encounter for antineoplastic immunotherapy          ] mort= 2/ 9 (0.222)\n",
      "\tHispanic       : n=1\n",
      "\tWhite          : n=8\n",
      "[211.1 ] [Benign neoplasm of stomach                          ] mort= 1/37 (0.027)\n",
      "\tAsian          : n=2\n",
      "\tBlack          : n=6\n",
      "\tHispanic       : n=3\n",
      "\tNative American: n=1\n",
      "\tNot Specified  : n=2\n",
      "\tWhite          : n=23\n",
      "[344.89] [Other specified paralytic syndrome                  ] mort= 2/20 (0.1)\n",
      "\tBlack          : n=4\n",
      "\tOther          : n=1\n",
      "\tWhite          : n=15\n",
      "[796.3 ] [Nonspecific low blood pressure reading              ] mort= 0/32 (0.0)\n",
      "\tNot Specified  : n=2\n",
      "\tOther          : n=1\n",
      "\tWhite          : n=29\n",
      "[E98.03] [Poisoning by tranquilizers and other psychotropic   ] mort= 0/11 (0.0)\n",
      "\tBlack          : n=1\n",
      "\tHispanic       : n=1\n",
      "\tNot Specified  : n=1\n",
      "\tWhite          : n=8\n",
      "[599.72] [Microscopic hematuria                               ] mort= 1/16 (0.0625)\n",
      "\tAsian          : n=1\n",
      "\tOther          : n=1\n",
      "\tWhite          : n=14\n",
      "[991.6 ] [Hypothermia                                         ] mort= 2/37 (0.0541)\n",
      "\tAsian          : n=1\n",
      "\tBlack          : n=3\n",
      "\tHispanic       : n=1\n",
      "\tNot Specified  : n=5\n",
      "\tOther          : n=2\n",
      "\tWhite          : n=25\n",
      "[296.50] [Bipolar I disorder, most recent episode (or curren  ] mort= 0/39 (0.0)\n",
      "\tAsian          : n=1\n",
      "\tBlack          : n=5\n",
      "\tHispanic       : n=4\n",
      "\tNot Specified  : n=1\n",
      "\tOther          : n=3\n",
      "\tWhite          : n=25\n",
      "[730.05] [Acute osteomyelitis, pelvic region and thigh        ] mort= 0/ 7 (0.0)\n",
      "\tBlack          : n=1\n",
      "\tNot Specified  : n=1\n",
      "\tOther          : n=1\n",
      "\tWhite          : n=4\n"
     ]
    }
   ],
   "source": [
    "for dim in list(reversed(informative_feats))[-25:]:\n",
    "    word = ind2feat[dim]\n",
    "    desc = icd_lookup[word]\n",
    "    \n",
    "    # Look at prevalance in W vs B population\n",
    "    pt_nums = train_X[:,dim].nonzero()[0]\n",
    "    hadm_ids = [train_ids[ptnum] for ptnum in pt_nums]\n",
    "    group_labels = [labels[hadm_id] for hadm_id in hadm_ids]\n",
    "    frac_mort = float(sum(group_labels)) / len(group_labels)\n",
    "    group_demographics = demographics[demographics.hadm_id.isin(hadm_ids)]\n",
    "\n",
    "    print(f'[{word[:3]+\".\"+word[3:]:6s}] [{desc[:50]:52}] mort={sum(group_labels):2}/{len(group_labels):2} ({frac_mort:.3})')\n",
    "    for race,rows in group_demographics.groupby('race'):\n",
    "        print(f'\\t{race:15}: n={len(rows)}')\n",
    "    #display(group_demographics)\n",
    "    \n",
    "    #break"
   ]
  },
  {
   "cell_type": "code",
   "execution_count": 30,
   "id": "accomplished-edmonton",
   "metadata": {},
   "outputs": [
    {
     "name": "stderr",
     "output_type": "stream",
     "text": [
      "100%|██████████| 20/20 [00:35<00:00,  1.76s/it]"
     ]
    },
    {
     "name": "stdout",
     "output_type": "stream",
     "text": [
      "AUC\n",
      "White: 0.871189224414344 +/- 0.004016378176617424\n",
      "\t0.866763589596628\n",
      "\t0.875214592624203\n",
      "\t0.8764867882750761\n",
      "\t0.8769313236202977\n",
      "\t0.8698720966359111\n",
      "\t0.8741486977508469\n",
      "\t0.8672139249621631\n",
      "\t0.8684714250004565\n",
      "\t0.875702845401412\n",
      "\t0.872304019562298\n",
      "\t0.8760072410344195\n",
      "\t0.8704742958323242\n",
      "\t0.8704471244046761\n",
      "\t0.8674759340280942\n",
      "\t0.8697065612767747\n",
      "\t0.8634037704751677\n",
      "\t0.8759884898701946\n",
      "\t0.8654553362545165\n",
      "\t0.8734560111114433\n",
      "\t0.8682604205699777\n",
      "\n",
      "Black: 0.8744385074547404 +/- 0.01582127909642227\n",
      "\t0.8819221387688071\n",
      "\t0.8312719547338088\n",
      "\t0.8769229122284907\n",
      "\t0.8811996634210842\n",
      "\t0.8973108553350289\n",
      "\t0.898390022675737\n",
      "\t0.8776606218126686\n",
      "\t0.8504210988276109\n",
      "\t0.8793060883436515\n",
      "\t0.8476064997804127\n",
      "\t0.8654536871703302\n",
      "\t0.8915245943571437\n",
      "\t0.8870446533490012\n",
      "\t0.8713635393697988\n",
      "\t0.8749701314217444\n",
      "\t0.8719919267194536\n",
      "\t0.8746907015106791\n",
      "\t0.8771303258145363\n",
      "\t0.8715073718940097\n",
      "\t0.8810813615608136\n",
      "\n",
      "Recall\n",
      "White: 0.4444237812815718 +/- 0.010343622797939857\n",
      "\t0.44985394352439156\n",
      "\t0.45348837209258386\n",
      "\t0.4536178107602471\n",
      "\t0.45516569200735363\n",
      "\t0.45195052331070223\n",
      "\t0.4500494559837289\n",
      "\t0.4347408829170492\n",
      "\t0.4324853228958586\n",
      "\t0.460424710424266\n",
      "\t0.439655172413372\n",
      "\t0.45578231292472715\n",
      "\t0.4389275074474291\n",
      "\t0.4606003752340895\n",
      "\t0.4284420289851192\n",
      "\t0.4313186813182863\n",
      "\t0.4451038575663253\n",
      "\t0.43105022831010864\n",
      "\t0.4308712121208041\n",
      "\t0.4407096171797939\n",
      "\t0.44423791821520053\n",
      "\n",
      "Black: 0.40573491233243875 +/- 0.04127166476531663\n",
      "\t0.46808510637799905\n",
      "\t0.35849056603435386\n",
      "\t0.3577981651343321\n",
      "\t0.36170212765572657\n",
      "\t0.46511627906616193\n",
      "\t0.43999999999559997\n",
      "\t0.4824561403466451\n",
      "\t0.36697247706085345\n",
      "\t0.35398230088182314\n",
      "\t0.38260869564884686\n",
      "\t0.42201834861998144\n",
      "\t0.45631067960722027\n",
      "\t0.43243243242853663\n",
      "\t0.40196078430978466\n",
      "\t0.4299999999957\n",
      "\t0.3684210526283472\n",
      "\t0.4038461538422707\n",
      "\t0.3928571428536352\n",
      "\t0.4150943396187255\n",
      "\t0.3545454545422314\n",
      "\n"
     ]
    },
    {
     "name": "stderr",
     "output_type": "stream",
     "text": [
      "\n"
     ]
    }
   ],
   "source": [
    "# Run multiple times\n",
    "aucs    = {'Black':[], 'White':[]}\n",
    "recalls = {'Black':[], 'White':[]}\n",
    "for i in tqdm.tqdm(range(20)):\n",
    "    # Randomly split data\n",
    "    ids = list(set(features.keys()) & set(labels.keys()))\n",
    "    random.shuffle(ids)\n",
    "    ind = int(0.7 * len(ids))\n",
    "    train_ids = ids[:ind]\n",
    "    test_ids  = ids[ ind:]\n",
    "\n",
    "    # train/test separation\n",
    "    train_features = [features[hadmid] for hadmid in train_ids]\n",
    "    test_features  = [features[hadmid] for hadmid in  test_ids]\n",
    "\n",
    "    train_labels = [labels[hadmid] for hadmid in train_ids]\n",
    "    test_labels  = [labels[hadmid] for hadmid in  test_ids]\n",
    "    \n",
    "    # vectorizer\n",
    "    vect = DictVectorizer()\n",
    "    vect.fit(train_features)\n",
    "    train_X = vect.transform(train_features)\n",
    "    test_X  = vect.transform( test_features)\n",
    "    \n",
    "    # fit model\n",
    "    xgb = xgboost.XGBClassifier(eval_metric='logloss', use_label_encoder=False)\n",
    "    xgb.fit(train_X, train_labels)\n",
    "    \n",
    "    # threshold across groups\n",
    "    test_pred = xgb.predict_proba(test_X) [:,1]\n",
    "    n = int(0.9*len(test_pred))\n",
    "    thr = sorted(test_pred)[n]\n",
    "    \n",
    "    # predict and eval for black vs white\n",
    "    test_demographics = demographics[demographics.hadm_id.isin(test_ids)]\n",
    "    for race in ['White', 'Black']:\n",
    "        rows = test_demographics[test_demographics.race==race]\n",
    "        group_ids = list(set(rows.hadm_id))\n",
    "        group_features = [features[pid] for pid in group_ids]\n",
    "        group_X = vect.transform(group_features)\n",
    "        group_labels   = [labels[pid]   for pid in group_ids]\n",
    "        group_pred = xgb.predict_proba(group_X) [:,1]\n",
    "\n",
    "        results = evaluate_performance(group_labels, group_pred, thr=thr)\n",
    "        aucs[race].append(results['auc'])\n",
    "        recalls[race].append(results['recall'])\n",
    "        \n",
    "    \n",
    "    #break\n",
    "    \n",
    "#print(aucs)\n",
    "#print()\n",
    "print('AUC')\n",
    "for race in ['White', 'Black']:\n",
    "    print(f'{race}: {np.mean(aucs[race])} +/- {np.std(aucs[race])}')\n",
    "    for auc in aucs[race]:\n",
    "        print(f'\\t{auc}')\n",
    "    print()\n",
    "    \n",
    "print('Recall')\n",
    "for race in ['White', 'Black']:\n",
    "    print(f'{race}: {np.mean(recalls[race])} +/- {np.std(recalls[race])}')\n",
    "    for r in recalls[race]:\n",
    "        print(f'\\t{r}')\n",
    "    print()"
   ]
  },
  {
   "cell_type": "code",
   "execution_count": 31,
   "id": "still-italy",
   "metadata": {},
   "outputs": [],
   "source": [
    "# Aversge risk score per race\n",
    "\n",
    "# Per race recall @ top-10%\n",
    "n = int(0.9*len(test_pred))\n",
    "thr = sorted(test_pred)[n]\n",
    "\n",
    "test_demographics = demographics[demographics.hadm_id.isin(test_ids)]\n",
    "scores = {}\n",
    "for race in ['White', 'Black']:\n",
    "    #print(race)\n",
    "    #display(rows)\n",
    "    rows = test_demographics[test_demographics.race==race]\n",
    "    group_ids = list(set(rows.hadm_id))\n",
    "    group_features = [features[pid] for pid in group_ids]\n",
    "    group_X = vect.transform(group_features)\n",
    "    group_labels   = [labels[pid]   for pid in group_ids]\n",
    "    group_pred = xgb.predict_proba(group_X) [:,1]\n",
    "    scores[race] = group_pred"
   ]
  },
  {
   "cell_type": "code",
   "execution_count": 32,
   "id": "stainless-athletics",
   "metadata": {},
   "outputs": [
    {
     "name": "stdout",
     "output_type": "stream",
     "text": [
      "\t\twhite: 8209 0.054121442\n",
      "\t\tblack: 986 0.04027945\n",
      "\t\tp-value: 1.0285042146118451e-12\n"
     ]
    },
    {
     "name": "stderr",
     "output_type": "stream",
     "text": [
      "<ipython-input-32-aa7ab65543c0>:37: MatplotlibDeprecationWarning: Adding an axes using the same arguments as a previous axes currently reuses the earlier instance.  In a future version, a new instance will always be created and returned.  Meanwhile, this warning can be suppressed, and the future behavior ensured, by passing a unique label to each axes instance.\n",
      "  ax = pl.subplot(111)\n"
     ]
    },
    {
     "data": {
      "image/png": "[encoded data removed]",
      "text/plain": [
       "<Figure size 432x288 with 1 Axes>"
      ]
     },
     "metadata": {
      "needs_background": "light"
     },
     "output_type": "display_data"
    }
   ],
   "source": [
    "def list_median(vals):\n",
    "    svals = sorted(vals)\n",
    "    return svals[int(len(svals)/2)]\n",
    "\n",
    "\n",
    "def plot_distributions(dists):\n",
    "    fig = pl.figure()\n",
    "\n",
    "    p1 = list(dists['White'])\n",
    "    p2 = list(dists['Black'])\n",
    "    \n",
    "    white_median = list_median(p1)\n",
    "    black_median = list_median(p2)\n",
    "    smaller_median = min(white_median, black_median)\n",
    "\n",
    "    #colors = ['#00A6ED', '#FF5400']\n",
    "    colors = ['green', 'blue']\n",
    "    for i,race in enumerate(['White', 'Black']):\n",
    "        vals = list(dists[race])\n",
    "        pl.plot(np.sort(vals), np.linspace(0, 1, len(vals), endpoint=False), color=colors[i], label=race, lw=2)\n",
    "        pl.xlim((0,0.4))\n",
    "        pl.ylim((0,1.0))\n",
    "\n",
    "        median = list_median(vals)\n",
    "        pl.axvline(x=median, linestyle=\"--\", lw=1, color=colors[i], alpha=0.8) \n",
    "        if median == smaller_median:\n",
    "            p = .001\n",
    "            h = 'right'\n",
    "        else:\n",
    "            p = -.001\n",
    "            h = 'left'\n",
    "        #h = 'center'\n",
    "        pl.text(x=median+p, y=1.085, horizontalalignment=h, s=\"median:\"      , fontsize=14, color=colors[i])\n",
    "        pl.text(x=median+p, y=1.01 , horizontalalignment=h, s=f'{median:.3f}', fontsize=17, color=colors[i])\n",
    "\n",
    "\n",
    "    ax = pl.subplot(111)    \n",
    "    ax.spines[\"top\"].set_visible(False)    \n",
    "    ax.spines[\"right\"].set_visible(False)    \n",
    "    pl.yticks(fontsize=15)    \n",
    "    pl.xticks(fontsize=15) \n",
    "\n",
    "    pl.legend(loc=4, fontsize=17)\n",
    "    pl.ylabel(\"% patients with <= score\", fontsize=15)\n",
    "    pl.xlabel('risk score', fontsize=15)\n",
    "\n",
    "    pl.tight_layout()\n",
    "\n",
    "    w = mannwhitneyu(p1, p2)\n",
    "    print('\\t\\twhite:', len(p1), white_median)\n",
    "    print('\\t\\tblack:', len(p2), black_median)\n",
    "    print('\\t\\tp-value:', w.pvalue)\n",
    "    pl.show()\n",
    "    \n",
    "\n",
    "    \n",
    "plot_distributions(scores)"
   ]
  },
  {
   "cell_type": "code",
   "execution_count": 33,
   "id": "special-belief",
   "metadata": {},
   "outputs": [],
   "source": [
    "# TODO: could build model to distinguish black vs white (to see what top separators are)\n",
    "pass"
   ]
  },
  {
   "cell_type": "code",
   "execution_count": null,
   "id": "orange-command",
   "metadata": {},
   "outputs": [],
   "source": []
  }
 ],
 "metadata": {
  "kernelspec": {
   "display_name": "Python 3",
   "language": "python",
   "name": "python3"
  },
  "language_info": {
   "codemirror_mode": {
    "name": "ipython",
    "version": 3
   },
   "file_extension": ".py",
   "mimetype": "text/x-python",
   "name": "python",
   "nbconvert_exporter": "python",
   "pygments_lexer": "ipython3",
   "version": "3.9.1"
  }
 },
 "nbformat": 4,
 "nbformat_minor": 5
}

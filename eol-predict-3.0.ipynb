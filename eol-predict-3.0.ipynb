{
 "cells": [
  {
   "cell_type": "markdown",
   "id": "supreme-texture",
   "metadata": {},
   "source": [
    "2.0 did a great analysis and showed comprable recalls. But that is because of 'offsetting' signals from sicker black patients (higher death rates, higher risk scores) vs worse model AUC for black patients than white patients (64.8 vs 71.5).\n",
    "\n",
    "Can we augment the task with additional feature data to help close the AUC gap and improve predictions for black patients? Would be very useful if the model was essentially thermostatic: sicker patients get more help."
   ]
  },
  {
   "cell_type": "code",
   "execution_count": 1,
   "id": "bronze-placement",
   "metadata": {},
   "outputs": [],
   "source": [
    "import psycopg2\n",
    "import pandas as pd\n",
    "import tqdm\n",
    "from collections import Counter, defaultdict\n",
    "import pylab as pl\n",
    "import random\n",
    "import xgboost\n",
    "from sklearn.feature_extraction import DictVectorizer\n",
    "from sklearn.metrics import roc_auc_score\n",
    "from sklearn.svm import LinearSVC\n",
    "import numpy as np\n",
    "from sklearn.calibration import calibration_curve\n",
    "from scipy.stats import mannwhitneyu\n",
    "from lifelines import KaplanMeierFitter\n",
    "import re\n",
    "\n",
    "pd.set_option('display.max_columns', None)"
   ]
  },
  {
   "cell_type": "code",
   "execution_count": 2,
   "id": "personal-argument",
   "metadata": {},
   "outputs": [],
   "source": [
    "# create a database connection\n",
    "sqluser = 'wboag'\n",
    "dbname = 'mimic'\n",
    "schema_name = 'mimiciii'\n",
    "\n",
    "# Connect to the database\n",
    "con = psycopg2.connect(dbname=dbname, user=sqluser, host=\"/var/run/postgresql\")"
   ]
  },
  {
   "cell_type": "markdown",
   "id": "lovely-flood",
   "metadata": {},
   "source": [
    "# Cohort Creation"
   ]
  },
  {
   "cell_type": "code",
   "execution_count": 4,
   "id": "verbal-gross",
   "metadata": {},
   "outputs": [
    {
     "name": "stdout",
     "output_type": "stream",
     "text": [
      "(9165, 22)\n"
     ]
    }
   ],
   "source": [
    "# TODO: exclude patients who die in-hospital\n",
    "cohort_query = '''\n",
    "WITH T AS (\n",
    "        SELECT subject_id, MAX(admittime) AS admittime\n",
    "        FROM mimiciii.admissions \n",
    "        GROUP BY subject_id\n",
    "        ),\n",
    "     EOL as (\n",
    "         select hadm_id\n",
    "         from mimiciii.diagnoses_icd\n",
    "         where icd9_code = 'V667'\n",
    "     )\n",
    "SELECT a.*, gender, dob, dod\n",
    "FROM mimiciii.admissions a\n",
    "    JOIN T ON T.subject_id = a.subject_id AND T.admittime = a.admittime\n",
    "    JOIN mimiciii.patients  p on p.subject_id = a.subject_id\n",
    "where a.hadm_id not in (select hadm_id from EOL)\n",
    "and ((dod is null) or (dod :: date - dischtime ::date >= 3))\n",
    "and a.discharge_location not in ('HOSPICE-HOME', 'HOSPICE-MEDICAL FACILITY', 'DEAD/EXPIRED')\n",
    "and dod is not null\n",
    "and (a.admittime :: date - dob ::date) / 365.25 >= 18\n",
    "--and insurance = 'Medicare'\n",
    "'''\n",
    "cohort = pd.read_sql_query(cohort_query, con)\n",
    "print(cohort.shape)\n",
    "cohort.head()"
   ]
  },
  {
   "cell_type": "code",
   "execution_count": 4,
   "id": "closed-survivor",
   "metadata": {},
   "outputs": [],
   "source": [
    "codestatus_df = pd.read_sql_query('select * from mimiciii.code_status', con)\n",
    "\n",
    "# get code statuses\n",
    "codestatus = {}\n",
    "for row in codestatus_df.itertuples():\n",
    "    if row.fullcode_last == 1:\n",
    "        cs = 'fullcode'\n",
    "    elif row.cmo_last == 1:\n",
    "        cs = 'cmo'\n",
    "    elif row.dnr_last == 1:\n",
    "        cs = 'dnr'\n",
    "    elif row.dni_last == 1:\n",
    "        cs = 'dni'\n",
    "    elif row.dncpr_last == 1:\n",
    "        cs = 'dncpr'\n",
    "    else:\n",
    "        cs = 'none'\n",
    "        \n",
    "    codestatus[row.hadm_id] = cs"
   ]
  },
  {
   "cell_type": "code",
   "execution_count": 5,
   "id": "generous-lawyer",
   "metadata": {},
   "outputs": [
    {
     "name": "stdout",
     "output_type": "stream",
     "text": [
      "1615\n",
      "(9144, 22)\n"
     ]
    }
   ],
   "source": [
    "cmo = set([hadm_id for hadm_id,cs in codestatus.items() if cs=='cmo'])\n",
    "print(len(cmo))\n",
    "\n",
    "cohort = cohort[~cohort.hadm_id.isin(cmo)]\n",
    "print(cohort.shape)"
   ]
  },
  {
   "cell_type": "code",
   "execution_count": 5,
   "id": "congressional-maryland",
   "metadata": {},
   "outputs": [
    {
     "name": "stdout",
     "output_type": "stream",
     "text": [
      "(9018, 4)\n"
     ]
    }
   ],
   "source": [
    "demographics_query = 'SELECT distinct subject_id,hadm_id,gender,ethnicity FROM mimiciii.icustay_detail;' \n",
    "demographics = pd.read_sql_query(demographics_query, con)\n",
    "\n",
    "# filter demographics to the patients in the cohort\n",
    "demographics = demographics[demographics.hadm_id.isin(set(cohort.hadm_id))]\n",
    "\n",
    "print(demographics.shape)\n",
    "demographics.head()"
   ]
  },
  {
   "cell_type": "code",
   "execution_count": 7,
   "id": "narrative-scotland",
   "metadata": {},
   "outputs": [],
   "source": [
    "def normalize_race(race):\n",
    "    if 'HISPANIC' in race:\n",
    "        return 'Hispanic'\n",
    "    if 'SOUTH AMERICAN' in race:\n",
    "        return 'Hispanic'\n",
    "    if 'AMERICAN INDIAN' in race:\n",
    "        return 'Native American'\n",
    "    if 'ASIAN' in race:\n",
    "        return 'Asian'\n",
    "    if 'BLACK' in race:\n",
    "        return 'Black'\n",
    "    if 'UNKNOWN/NOT SPECIFIED' in race:\n",
    "        return 'Not Specified'\n",
    "    if 'WHITE' in race:\n",
    "        return 'White'\n",
    "    #print race\n",
    "    return 'Other'\n",
    "\n",
    "demographics['race'] = demographics['ethnicity'].apply(normalize_race)\n",
    "\n",
    "race_lookup = defaultdict(lambda:'unk')\n",
    "race_lookup.update(dict(demographics[['hadm_id','race']].values))"
   ]
  },
  {
   "cell_type": "code",
   "execution_count": 8,
   "id": "precious-figure",
   "metadata": {},
   "outputs": [],
   "source": [
    "# Severity of Illness\n",
    "\n",
    "oasis = pd.read_sql_query('select hadm_id,oasis from mimiciii.oasis', con)\n",
    "oasis = oasis[oasis.hadm_id.isin(set(cohort.hadm_id))]\n",
    "oasis_lookup = dict(oasis[['hadm_id','oasis']].values)\n",
    "\n",
    "saps = pd.read_sql_query('select hadm_id,sapsii from mimiciii.sapsii', con)\n",
    "saps = saps[saps.hadm_id.isin(set(cohort.hadm_id))]\n",
    "saps_lookup = dict(saps[['hadm_id','sapsii']].values)\n",
    "\n",
    "sofa = pd.read_sql_query('select hadm_id,sofa from mimiciii.sofa', con)\n",
    "sofa = sofa[sofa.hadm_id.isin(set(cohort.hadm_id))]\n",
    "sofa_lookup = dict(sofa[['hadm_id','sofa']].values)"
   ]
  },
  {
   "cell_type": "markdown",
   "id": "reasonable-fitness",
   "metadata": {},
   "source": [
    "# Feature and Labels"
   ]
  },
  {
   "cell_type": "code",
   "execution_count": 9,
   "id": "massive-genesis",
   "metadata": {},
   "outputs": [
    {
     "name": "stdout",
     "output_type": "stream",
     "text": [
      "9144\n",
      "0.5138888888888888\n"
     ]
    }
   ],
   "source": [
    "# identify who dies within 6 months\n",
    "died_within_6months = cohort[(cohort.dod - cohort.dischtime) <= pd.Timedelta(days=180)]\n",
    "died_within_12months = cohort[(cohort.dod - cohort.dischtime) <= pd.Timedelta(days=365)]\n",
    "died_postdisch = cohort[~cohort.dod.isnull()]\n",
    "\n",
    "# label every patient as dying within 6 months or not\n",
    "labels = {hadm_id:0 for hadm_id in cohort.hadm_id}\n",
    "#for hadm_id in died_within_6months.hadm_id:\n",
    "for hadm_id in died_within_12months.hadm_id:\n",
    "#for hadm_id in died_postdisch.hadm_id:\n",
    "    labels[hadm_id] = 1\n",
    "\n",
    "print(len(labels))\n",
    "\n",
    "# print positive percentage\n",
    "print(sum(labels.values()) / len(labels))"
   ]
  },
  {
   "cell_type": "code",
   "execution_count": 10,
   "id": "configured-dealer",
   "metadata": {},
   "outputs": [
    {
     "name": "stdout",
     "output_type": "stream",
     "text": [
      "9144\n",
      "8997\n",
      "9144\n"
     ]
    }
   ],
   "source": [
    "print(len(labels))\n",
    "print(len(set(demographics.hadm_id)))\n",
    "print(len(set(cohort.hadm_id)))\n"
   ]
  },
  {
   "cell_type": "code",
   "execution_count": 11,
   "id": "wanted-racing",
   "metadata": {},
   "outputs": [
    {
     "data": {
      "text/plain": [
       "Text(0, 0.5, '% Patients Still Alive')"
      ]
     },
     "execution_count": 11,
     "metadata": {},
     "output_type": "execute_result"
    },
    {
     "data": {
      "image/png": "[encoded data removed]",
      "text/plain": [
       "<Figure size 432x288 with 1 Axes>"
      ]
     },
     "metadata": {
      "needs_background": "light"
     },
     "output_type": "display_data"
    }
   ],
   "source": [
    "#died_postdisch\n",
    "died_postdisch['race']  = [race_lookup[row.hadm_id] for row in died_postdisch.itertuples()]\n",
    "ax = pl.subplot(111)\n",
    "for race,rows in died_postdisch.groupby('race'):\n",
    "    if race not in ['White', 'Black']: continue\n",
    "        \n",
    "    #print(race)\n",
    "    #display(rows)\n",
    "    times  = [t.days for t in (rows.dod - rows.dischtime)]\n",
    "    \n",
    "    kmf = KaplanMeierFitter()\n",
    "    kmf.fit(durations = times, label=race)\n",
    "    \n",
    "    kmf.plot_survival_function(ax = ax)\n",
    "\n",
    "#pl.title('Survival Analysis Post-Discharge')\n",
    "pl.xlabel('Days Post-Discharge')\n",
    "pl.ylabel('% Patients Still Alive')"
   ]
  },
  {
   "cell_type": "code",
   "execution_count": 12,
   "id": "flying-facial",
   "metadata": {},
   "outputs": [
    {
     "name": "stdout",
     "output_type": "stream",
     "text": [
      "White           3492/ 6654 (0.525)\n",
      "Not Specified    420/ 1086 (0.387)\n",
      "Black            370/  602 (0.615)\n",
      "Other            171/  320 (0.534)\n",
      "Hispanic          81/  177 (0.458)\n",
      "Asian            104/  153 (0.680)\n",
      "\n",
      "all             4699/ 9144 (0.514)\n"
     ]
    }
   ],
   "source": [
    "for race in ['White', 'Not Specified', 'Black', 'Other', 'Hispanic', 'Asian']:\n",
    "    rows = demographics[demographics.race==race]\n",
    "    group_ids = list(set(rows.hadm_id))\n",
    "    group_labels   = [labels[pid] for pid in group_ids]\n",
    "    print(f'{race:15} {sum(group_labels):4}/{len(group_labels):5} ({sum(group_labels)/len(group_labels):.3f})')\n",
    "\n",
    "print()\n",
    "print(f'{\"all\":15} {sum(labels.values()):4}/{len(labels):5} ({sum(labels.values())/len(labels):.3f})')"
   ]
  },
  {
   "cell_type": "code",
   "execution_count": 13,
   "id": "absent-instruction",
   "metadata": {},
   "outputs": [
    {
     "name": "stdout",
     "output_type": "stream",
     "text": [
      "(108681, 2)\n",
      "9143\n"
     ]
    },
    {
     "data": {
      "text/html": [
       "<div>\n",
       "<style scoped>\n",
       "    .dataframe tbody tr th:only-of-type {\n",
       "        vertical-align: middle;\n",
       "    }\n",
       "\n",
       "    .dataframe tbody tr th {\n",
       "        vertical-align: top;\n",
       "    }\n",
       "\n",
       "    .dataframe thead th {\n",
       "        text-align: right;\n",
       "    }\n",
       "</style>\n",
       "<table border=\"1\" class=\"dataframe\">\n",
       "  <thead>\n",
       "    <tr style=\"text-align: right;\">\n",
       "      <th></th>\n",
       "      <th>hadm_id</th>\n",
       "      <th>icd9_code</th>\n",
       "    </tr>\n",
       "  </thead>\n",
       "  <tbody>\n",
       "    <tr>\n",
       "      <th>42</th>\n",
       "      <td>114585</td>\n",
       "      <td>1940</td>\n",
       "    </tr>\n",
       "    <tr>\n",
       "      <th>43</th>\n",
       "      <td>114585</td>\n",
       "      <td>1977</td>\n",
       "    </tr>\n",
       "    <tr>\n",
       "      <th>44</th>\n",
       "      <td>114585</td>\n",
       "      <td>2553</td>\n",
       "    </tr>\n",
       "    <tr>\n",
       "      <th>45</th>\n",
       "      <td>114585</td>\n",
       "      <td>4240</td>\n",
       "    </tr>\n",
       "    <tr>\n",
       "      <th>46</th>\n",
       "      <td>114585</td>\n",
       "      <td>5845</td>\n",
       "    </tr>\n",
       "  </tbody>\n",
       "</table>\n",
       "</div>"
      ],
      "text/plain": [
       "    hadm_id icd9_code\n",
       "42   114585      1940\n",
       "43   114585      1977\n",
       "44   114585      2553\n",
       "45   114585      4240\n",
       "46   114585      5845"
      ]
     },
     "execution_count": 13,
     "metadata": {},
     "output_type": "execute_result"
    }
   ],
   "source": [
    "# Get ICD codes\n",
    "icd_query = '''\n",
    "select icd.hadm_id, icd.icd9_code\n",
    "from mimiciii.DIAGNOSES_ICD icd\n",
    "inner join mimiciii.d_icd_diagnoses d on d.icd9_code = icd.icd9_code\n",
    "--limit 500\n",
    "'''\n",
    "icd_df = pd.read_sql_query(icd_query, con)\n",
    "icd_df = icd_df[icd_df.hadm_id.isin(set(cohort.hadm_id))]\n",
    "print(icd_df.shape)\n",
    "print(len(set(icd_df.hadm_id)))\n",
    "icd_df.head()"
   ]
  },
  {
   "cell_type": "code",
   "execution_count": 14,
   "id": "dominant-thesis",
   "metadata": {},
   "outputs": [
    {
     "data": {
      "text/plain": [
       "{'01166': 'Tuberculous pneumonia [any form], tubercle bacilli not found by bacteriological or histological examination, but tuberculosis confirmed by other methods [inoculation of animals]',\n",
       " '01170': 'Tuberculous pneumothorax, unspecified',\n",
       " '01171': 'Tuberculous pneumothorax, bacteriological or histological examination not done'}"
      ]
     },
     "execution_count": 14,
     "metadata": {},
     "output_type": "execute_result"
    }
   ],
   "source": [
    "d_icd = pd.read_sql_query('select * from mimiciii.d_icd_diagnoses', con)\n",
    "icd_lookup = dict(d_icd[['icd9_code','long_title']].values)\n",
    "#icd_lookup = {str(k):v for k,v in icd_df[['icd9_code','short_title']].values}\n",
    "dict(list(icd_lookup.items())[:3])"
   ]
  },
  {
   "cell_type": "code",
   "execution_count": 15,
   "id": "manufactured-statement",
   "metadata": {},
   "outputs": [
    {
     "data": {
      "text/plain": [
       "(0.0, 100.0, 0.0, 1000.0)"
      ]
     },
     "execution_count": 15,
     "metadata": {},
     "output_type": "execute_result"
    },
    {
     "data": {
      "image/png": "[encoded data removed]",
      "text/plain": [
       "<Figure size 432x288 with 1 Axes>"
      ]
     },
     "metadata": {
      "needs_background": "light"
     },
     "output_type": "display_data"
    }
   ],
   "source": [
    "# Frequency of ICDs\n",
    "icd_freq = Counter(icd_df.icd9_code)\n",
    "\n",
    "pl.hist(icd_freq.values(), bins=2000)\n",
    "pl.axis([0, 100, 0, 1000])"
   ]
  },
  {
   "cell_type": "markdown",
   "id": "reported-optimization",
   "metadata": {},
   "source": [
    "Inspiration\n",
    "\n",
    "per Neto et al 2018 (includes Alistair) https://link.springer.com/article/10.1007/s00134-018-5375-6\n",
    "- Data was extracted from the database using structured query language (SQL), and included VT, positive end–expiratory pressure (PEEP), peak pressure (Ppeak) and Pplat, RR, and the inspired fraction of oxygen (FiO2).\n",
    "- For patients who received ventilation in a volume–controlled assist mode, driving pressure (ΔP) was calculated as Pplat minus PEEP.\n",
    "- The following demographic data (using first 24 hours of admission data) were collected: age, gender, ethnicity (white, black, Hispanic or Latino, or other), height, weight, comorbidities (using the Elixhauser comorbidity score for the MIMIC–III database),4,5 active smoking status (by Natural Language Processing searches in provider notes, categorized as ‘yes’, ‘no’, or ‘unknown’), primary diagnoses category on hospital discharge using the primary International Classification of Diseases (ICD)–9 diagnosis, and disease severity scores (Simplified Acute Physiology Score [SAPS] II,6 Sequential Organ Failure Assessment [SOFA],7 the Oxford Acute Severity of Illness Score [OASIS],8 and the Acute Physiology And Chronic Health Evaluation [APACHE] IV).9\n",
    "- Vital signs and laboratory measurements were captured as lowest and the highest values in the first and in the second day of ventilation. Use of vasopressors and need of renal replacement therapy during the first 24 hours of admission was collected, as was the latest code status of each patient. Presence of ARDS was scored according to the Berlin definition in the first 48 hours of ventilation.10"
   ]
  },
  {
   "cell_type": "code",
   "execution_count": 16,
   "id": "decreased-package",
   "metadata": {},
   "outputs": [
    {
     "data": {
      "text/plain": [
       "defaultdict(int, {'Alcohol abuse': 2, 'Cardiac arrhythmias': 1})"
      ]
     },
     "execution_count": 16,
     "metadata": {},
     "output_type": "execute_result"
    }
   ],
   "source": [
    "def icd9_to_elixhauser(codes):\n",
    "    # https://cdn.jamanetwork.com/ama/content_public/journal/jamanetworkopen/938206/zoi190606supp1_prod.pdf?Expires=1648056572&Signature=XEmoCvKY8BgPfGQHBj3HXaoja9~-RwTpNxTy-cTvG0TLYymWZ0IDVcXvZX20XHyrd-~H9yDI-s0Yhy3l6FBnlIou8EZOdLyWMuhmUs5Shvtk8Ut48qmcKpjNSmafZJ02jt4dZziA~jB4J06eqoAbNIYNb6LCow0IcraK9mvwmXP-iFXQGzqE7myn1fz9pI3jgsbAtKDnKYzzNbil3qslZevEVG94ujLBKSlveFaFObFmqb4qsZFk7et3yJC6xQamOoV6XcieNNLzKgkUyGBRhxWBUeifWx33As10hxd2IZ~iKyyGZvItNlfgZyrByGNrGTZ8HM~eZzh6x0eVraEcJg__&Key-Pair-Id=APKAIE5G5CRDK6RD3PGA\n",
    "    \n",
    "    mapping = {\n",
    "        'Alcohol abuse' : ['2652', '291[12356789]', '303[09]', '3050', '3575', '4255', '5353', '571[0123]', '980', 'V113'] ,\n",
    "        'Cardiac arrhythmias': ['426([079]|1[023])', '427[01234]', 'V450', 'V533'],\n",
    "        'Blood loss anemia' : ['2800'] ,\n",
    "        'Congestive heart failure':['39891', '402(01|11|91)', '404(01|03|[19][13])', '42(5[456789]|8)'],\n",
    "        'Chronic pulmonary disease':['416[89]', '49', '50([012345]|64|8[18])'],\n",
    "        'Coagulopathy':['286', '2871', '287[345]'],\n",
    "        'Deficiency anemia':['280[123456789]', '281'],\n",
    "        'Depression':['296[235]', '3004', '309', '311'],\n",
    "        'Diabetes complicated':['250[456789]'],\n",
    "        'Diabetes uncomplicated':['250[0123]'],\n",
    "        'Drug abuse':['292', '304', '305[23456789]', 'V6542'],\n",
    "        'Fluid and electroylte disorders':['2536', '276'],\n",
    "        'AIDS/HIV':['B20'],\n",
    "        'Hypertension, complicated':['40[2345]'],\n",
    "        'Hypertension, uncomplicated':['401'],\n",
    "        'Hypothyroidism':['2409', '24([34]|6[18])'],\n",
    "        'Liver disease':['070([23]|[45])', '456[012]', '57([01]|2[2345678]|3[3489])', 'V427'],\n",
    "        'Lymphoma':['20[012]', '2030', '2386'] ,\n",
    "        'Metastatic cancer':['19[6789]'],\n",
    "        'Obesity':['2780'],\n",
    "        'Other neurological disorders':['3319', '332[01]', '333[45]', '33([45]|62)', '34([015]|8[13])', '78[04]3'],\n",
    "        'Pulmonary circulation disorder':['415[01]', '416', '417[089]'],\n",
    "        'Peptic ulcer disease excluding bleeding':['53[1234][79]'],\n",
    "        'Pulmonary valvular disorder':['0930', '4373', '44([01]|3[123456789])', '4471', '557[19]', 'V434'],\n",
    "        'Paralysis':['3341', '34([23]|4[01234569])'] ,\n",
    "        'Psychoses':['2938', '296[0145]4', '29[578]'] ,\n",
    "        'Renal failure':['403', '404', '58([56]|80)', 'V4(20|51)', 'V56'],\n",
    "        'Rheumatoid arthritis/collagen vascular diseases':['446', '7010', '71(0[0123489]|12|4|93)', '72([05]|8[58]|93)'],\n",
    "        'Solid tumor without metastasis':['1[456]', '17[012456789]', '18', '19([012345])'],\n",
    "        'Valvular disease':['0932', '39[4567]', '424', '746[3456]', 'V422', 'V433'],\n",
    "        'Weight loss':['26[0123]', '7832', '7994'],\n",
    "    }\n",
    "    \n",
    "    comorbidities = defaultdict(int)\n",
    "    for code in codes:\n",
    "        for cm,regxs in mapping.items():\n",
    "            for regx in regxs:\n",
    "                if re.search(f'^{regx}', code):\n",
    "                    comorbidities[cm] += 1\n",
    "                    \n",
    "    return comorbidities\n",
    "                \n",
    "icd9_to_elixhauser(['V113', '3030', '3031', '4261', '4267'])\n"
   ]
  },
  {
   "cell_type": "code",
   "execution_count": 17,
   "id": "imported-retro",
   "metadata": {},
   "outputs": [
    {
     "name": "stderr",
     "output_type": "stream",
     "text": [
      "100%|██████████| 9143/9143 [02:11<00:00, 69.62it/s] "
     ]
    },
    {
     "name": "stdout",
     "output_type": "stream",
     "text": [
      "9143\n"
     ]
    },
    {
     "name": "stderr",
     "output_type": "stream",
     "text": [
      "\n"
     ]
    }
   ],
   "source": [
    "features = {}\n",
    "for hadm_id,rows in tqdm.tqdm(icd_df.groupby('hadm_id')):\n",
    "    feats = {}\n",
    "    \n",
    "    # ICD features\n",
    "    for icd in rows.icd9_code:\n",
    "        if icd_freq[icd] > 5:\n",
    "            #feats[icd] = 1\n",
    "            \n",
    "            # Elixhauser Comorbidities\n",
    "            codes = list(map(str,rows.icd9_code))\n",
    "            elixhausers = icd9_to_elixhauser(codes)\n",
    "            for cm,count in elixhausers.items():\n",
    "                feats[f'elixhausers={cm}'] = 1\n",
    "            \n",
    "    # demographic features\n",
    "    drows = demographics[demographics.hadm_id==hadm_id]\n",
    "    if len(drows):\n",
    "        feats[    f'race={drows.race.values[0]}'] = 1\n",
    "        feats[f'gender={drows.gender.values[0]}'] = 1\n",
    "    crows = cohort[cohort.hadm_id==hadm_id]\n",
    "    feats['age'] = (crows.admittime.values[0] - crows.dob.values[0]) / (np.timedelta64(1, 'D') * 365.25)\n",
    "    \n",
    "    # Admission data\n",
    "    for col in ['admission_type','admission_location','discharge_location','insurance','religion','marital_status']:\n",
    "        value = crows[col].values[0]\n",
    "        feats[f'{col}={value}'] = 1\n",
    "    \n",
    "    # get severity scores at time of discharge\n",
    "    if hadm_id in  saps_lookup: feats['saps']  =  saps_lookup[hadm_id] /  64\n",
    "    if hadm_id in  sofa_lookup: feats['sofa']  =  sofa_lookup[hadm_id] / 110\n",
    "    if hadm_id in oasis_lookup: feats['oasis'] = oasis_lookup[hadm_id] /  19\n",
    "    \n",
    "    # code status\n",
    "    if hadm_id in codestatus: feats[f'codestatus={codestatus[hadm_id]}'] = 1 \n",
    "\n",
    "    # TODO: add labs\n",
    "    pass\n",
    "        \n",
    "    # TODO: add another set of data (eg chartevents interpersonal stuff?)\n",
    "    pass\n",
    "    \n",
    "    features[hadm_id] = feats\n",
    "    \n",
    "print(len(features))"
   ]
  },
  {
   "cell_type": "code",
   "execution_count": 18,
   "id": "italic-movement",
   "metadata": {},
   "outputs": [
    {
     "data": {
      "text/plain": [
       "[(100016,\n",
       "  {'elixhausers=Other neurological disorders': 1,\n",
       "   'race=White': 1,\n",
       "   'gender=M': 1,\n",
       "   'age': 55.549440639269406,\n",
       "   'admission_type=EMERGENCY': 1,\n",
       "   'admission_location=CLINIC REFERRAL/PREMATURE': 1,\n",
       "   'discharge_location=SNF': 1,\n",
       "   'insurance=Medicare': 1,\n",
       "   'religion=PROTESTANT QUAKER': 1,\n",
       "   'marital_status=SINGLE': 1,\n",
       "   'saps': 0.625,\n",
       "   'sofa': 0.045454545454545456,\n",
       "   'oasis': 2.0526315789473686,\n",
       "   'codestatus=none': 1}),\n",
       " (100036,\n",
       "  {'elixhausers=Valvular disease': 1,\n",
       "   'elixhausers=Congestive heart failure': 1,\n",
       "   'elixhausers=Fluid and electroylte disorders': 1,\n",
       "   'elixhausers=Cardiac arrhythmias': 1,\n",
       "   'elixhausers=Renal failure': 1,\n",
       "   'elixhausers=Hypertension, complicated': 1,\n",
       "   'elixhausers=Pulmonary valvular disorder': 1,\n",
       "   'race=White': 1,\n",
       "   'gender=F': 1,\n",
       "   'age': 82.92488203957382,\n",
       "   'admission_type=EMERGENCY': 1,\n",
       "   'admission_location=TRANSFER FROM HOSP/EXTRAM': 1,\n",
       "   'discharge_location=SNF': 1,\n",
       "   'insurance=Medicare': 1,\n",
       "   'religion=CATHOLIC': 1,\n",
       "   'marital_status=SINGLE': 1,\n",
       "   'saps': 1.0,\n",
       "   'sofa': 0.07272727272727272,\n",
       "   'oasis': 2.473684210526316,\n",
       "   'codestatus=fullcode': 1}),\n",
       " (100068,\n",
       "  {'elixhausers=Renal failure': 1,\n",
       "   'elixhausers=Hypertension, complicated': 1,\n",
       "   'elixhausers=Cardiac arrhythmias': 1,\n",
       "   'elixhausers=Congestive heart failure': 1,\n",
       "   'elixhausers=Diabetes complicated': 1,\n",
       "   'elixhausers=Pulmonary valvular disorder': 1,\n",
       "   'elixhausers=Hypothyroidism': 1,\n",
       "   'race=Black': 1,\n",
       "   'gender=F': 1,\n",
       "   'age': 74.36890220700153,\n",
       "   'admission_type=EMERGENCY': 1,\n",
       "   'admission_location=EMERGENCY ROOM ADMIT': 1,\n",
       "   'discharge_location=REHAB/DISTINCT PART HOSP': 1,\n",
       "   'insurance=Medicare': 1,\n",
       "   'religion=PROTESTANT QUAKER': 1,\n",
       "   'marital_status=WIDOWED': 1,\n",
       "   'saps': 0.9375,\n",
       "   'sofa': 0.11818181818181818,\n",
       "   'oasis': 2.0,\n",
       "   'codestatus=none': 1})]"
      ]
     },
     "execution_count": 18,
     "metadata": {},
     "output_type": "execute_result"
    }
   ],
   "source": [
    "list(features.items())[:3]"
   ]
  },
  {
   "cell_type": "markdown",
   "id": "nasty-chaos",
   "metadata": {},
   "source": [
    "# ML Model"
   ]
  },
  {
   "cell_type": "code",
   "execution_count": 19,
   "id": "prerequisite-child",
   "metadata": {},
   "outputs": [
    {
     "name": "stdout",
     "output_type": "stream",
     "text": [
      "6400 2743\n"
     ]
    }
   ],
   "source": [
    "ids = list(set(features.keys()) & set(labels.keys()))\n",
    "random.shuffle(ids)\n",
    "\n",
    "ind = int(0.7 * len(ids))\n",
    "train_ids = ids[:ind]\n",
    "test_ids  = ids[ ind:]\n",
    "\n",
    "print(len(train_ids), len(test_ids))"
   ]
  },
  {
   "cell_type": "code",
   "execution_count": 20,
   "id": "corresponding-sellers",
   "metadata": {},
   "outputs": [],
   "source": [
    "train_features = [features[hadmid] for hadmid in train_ids]\n",
    "test_features  = [features[hadmid] for hadmid in  test_ids]\n",
    "\n",
    "train_labels = [labels[hadmid] for hadmid in train_ids]\n",
    "test_labels  = [labels[hadmid] for hadmid in  test_ids]"
   ]
  },
  {
   "cell_type": "code",
   "execution_count": 21,
   "id": "adequate-wildlife",
   "metadata": {},
   "outputs": [
    {
     "data": {
      "text/plain": [
       "DictVectorizer()"
      ]
     },
     "execution_count": 21,
     "metadata": {},
     "output_type": "execute_result"
    }
   ],
   "source": [
    "vect = DictVectorizer()\n",
    "vect.fit(train_features)"
   ]
  },
  {
   "cell_type": "code",
   "execution_count": 22,
   "id": "complete-difficulty",
   "metadata": {},
   "outputs": [
    {
     "name": "stdout",
     "output_type": "stream",
     "text": [
      "(6400, 104)\n",
      "(2743, 104)\n"
     ]
    }
   ],
   "source": [
    "train_X = vect.transform(train_features)\n",
    "test_X  = vect.transform( test_features)\n",
    "\n",
    "print(train_X.shape)\n",
    "print(test_X.shape)"
   ]
  },
  {
   "cell_type": "code",
   "execution_count": 23,
   "id": "through-winter",
   "metadata": {},
   "outputs": [
    {
     "name": "stderr",
     "output_type": "stream",
     "text": [
      "/afs/csail.mit.edu/u/w/wboag/.conda/envs/wb/lib/python3.9/site-packages/xgboost/sklearn.py:1224: UserWarning: The use of label encoder in XGBClassifier is deprecated and will be removed in a future release. To remove this warning, do the following: 1) Pass option use_label_encoder=False when constructing XGBClassifier object; and 2) Encode your labels (y) as integers starting with 0, i.e. 0, 1, 2, ..., [num_class - 1].\n",
      "  warnings.warn(label_encoder_deprecation_msg, UserWarning)\n"
     ]
    },
    {
     "data": {
      "text/plain": [
       "XGBClassifier(base_score=0.5, booster='gbtree', colsample_bylevel=1,\n",
       "              colsample_bynode=1, colsample_bytree=1, enable_categorical=False,\n",
       "              eval_metric='logloss', gamma=0, gpu_id=-1, importance_type=None,\n",
       "              interaction_constraints='', learning_rate=0.300000012,\n",
       "              max_delta_step=0, max_depth=6, min_child_weight=1, missing=nan,\n",
       "              monotone_constraints='()', n_estimators=100, n_jobs=32,\n",
       "              num_parallel_tree=1, predictor='auto', random_state=0,\n",
       "              reg_alpha=0, reg_lambda=1, scale_pos_weight=1, subsample=1,\n",
       "              tree_method='exact', validate_parameters=1, verbosity=None)"
      ]
     },
     "execution_count": 23,
     "metadata": {},
     "output_type": "execute_result"
    }
   ],
   "source": [
    "xgb = xgboost.XGBClassifier(eval_metric='logloss')\n",
    "xgb.fit(train_X, train_labels)"
   ]
  },
  {
   "cell_type": "markdown",
   "id": "bearing-astrology",
   "metadata": {},
   "source": [
    "# Evaluation"
   ]
  },
  {
   "cell_type": "code",
   "execution_count": 24,
   "id": "portuguese-respect",
   "metadata": {},
   "outputs": [],
   "source": [
    "def evaluate_performance(labels, preds, thr=None):\n",
    "    #print('AAA:', len(labels), len(preds))\n",
    "    \n",
    "    if not thr:\n",
    "        n = int(0.9*len(preds))\n",
    "        thr = sorted(preds)[n]\n",
    "        \n",
    "    preds_thr = [int(p>=thr) for p in preds]\n",
    "    \n",
    "    # confusion matrix\n",
    "    tp,fp,fn,tn = 0,0,0,0\n",
    "    for ref,pred in zip(labels,preds_thr):\n",
    "        if   ref==0 and pred==0: tn += 1\n",
    "        elif ref==0 and pred==1: fp += 1\n",
    "        elif ref==1 and pred==0: fn += 1\n",
    "        elif ref==1 and pred==1: tp += 1\n",
    "    conf = {'TP':tp, 'FP':fp, 'FN':fn, 'TN':tn}\n",
    "    recall    = float(tp) / (tp+fn+1e-9)\n",
    "    precision = float(tp) / (tp+fp+1e-9)\n",
    "    #print(conf)\n",
    "    #print(recall)\n",
    "    \n",
    "    # AUC\n",
    "    #print(labels)\n",
    "    #print(preds)\n",
    "    auc = roc_auc_score(labels, preds)\n",
    "            \n",
    "    results = {'recall':recall, 'precision':precision, 'auc':auc, 'conf':conf}\n",
    "    return results"
   ]
  },
  {
   "cell_type": "code",
   "execution_count": 25,
   "id": "bound-honduras",
   "metadata": {},
   "outputs": [
    {
     "name": "stdout",
     "output_type": "stream",
     "text": [
      "(2743,)\n"
     ]
    }
   ],
   "source": [
    "test_pred = xgb.predict_proba(test_X)[:,1]\n",
    "\n",
    "print(test_pred.shape)"
   ]
  },
  {
   "cell_type": "code",
   "execution_count": 26,
   "id": "minimal-tooth",
   "metadata": {},
   "outputs": [
    {
     "data": {
      "image/png": "[encoded data removed]",
      "text/plain": [
       "<Figure size 432x288 with 1 Axes>"
      ]
     },
     "metadata": {
      "needs_background": "light"
     },
     "output_type": "display_data"
    }
   ],
   "source": [
    "pl.hist(test_pred, bins=20)\n",
    "pl.show()"
   ]
  },
  {
   "cell_type": "code",
   "execution_count": 27,
   "id": "preceding-birmingham",
   "metadata": {},
   "outputs": [
    {
     "data": {
      "image/png": "[encoded data removed]",
      "text/plain": [
       "<Figure size 432x288 with 1 Axes>"
      ]
     },
     "metadata": {
      "needs_background": "light"
     },
     "output_type": "display_data"
    }
   ],
   "source": [
    "# reliability diagram\n",
    "fop, mpv = calibration_curve(test_labels, test_pred, n_bins=20)\n",
    "# plot perfectly calibrated\n",
    "pl.plot([0, 1], [0, 1], linestyle='--')\n",
    "# plot model reliability\n",
    "pl.plot(mpv, fop, marker='.')\n",
    "pl.show()"
   ]
  },
  {
   "cell_type": "code",
   "execution_count": 28,
   "id": "presidential-adrian",
   "metadata": {},
   "outputs": [
    {
     "data": {
      "text/plain": [
       "0.7236296005640147"
      ]
     },
     "execution_count": 28,
     "metadata": {},
     "output_type": "execute_result"
    }
   ],
   "source": [
    "# Overall AUC\n",
    "roc_auc_score(test_labels, test_pred)"
   ]
  },
  {
   "cell_type": "code",
   "execution_count": 29,
   "id": "hundred-energy",
   "metadata": {},
   "outputs": [
    {
     "name": "stdout",
     "output_type": "stream",
     "text": [
      "White           (n=2008) R=162/1032(0.157)   P=162/ 207(0.783)   AUC=0.723\n"
     ]
    },
    {
     "data": {
      "image/png": "[encoded data removed]",
      "text/plain": [
       "<Figure size 432x288 with 1 Axes>"
      ]
     },
     "metadata": {
      "needs_background": "light"
     },
     "output_type": "display_data"
    },
    {
     "name": "stdout",
     "output_type": "stream",
     "text": [
      "Not Specified   (n= 302) R= 10/ 115(0.087)   P= 10/  11(0.909)   AUC=0.709\n"
     ]
    },
    {
     "data": {
      "image/png": "[encoded data removed]",
      "text/plain": [
       "<Figure size 432x288 with 1 Axes>"
      ]
     },
     "metadata": {
      "needs_background": "light"
     },
     "output_type": "display_data"
    },
    {
     "name": "stdout",
     "output_type": "stream",
     "text": [
      "Black           (n= 181) R= 20/ 115(0.174)   P= 20/  23(0.870)   AUC=0.702\n"
     ]
    },
    {
     "data": {
      "image/png": "[encoded data removed]",
      "text/plain": [
       "<Figure size 432x288 with 1 Axes>"
      ]
     },
     "metadata": {
      "needs_background": "light"
     },
     "output_type": "display_data"
    },
    {
     "name": "stdout",
     "output_type": "stream",
     "text": [
      "Other           (n=  96) R=  8/  44(0.182)   P=  8/   9(0.889)   AUC=0.727\n"
     ]
    },
    {
     "data": {
      "image/png": "[encoded data removed]",
      "text/plain": [
       "<Figure size 432x288 with 1 Axes>"
      ]
     },
     "metadata": {
      "needs_background": "light"
     },
     "output_type": "display_data"
    },
    {
     "name": "stdout",
     "output_type": "stream",
     "text": [
      "Hispanic        (n=  53) R=  4/  22(0.182)   P=  4/   6(0.667)   AUC=0.645\n"
     ]
    },
    {
     "data": {
      "image/png": "[encoded data removed]",
      "text/plain": [
       "<Figure size 432x288 with 1 Axes>"
      ]
     },
     "metadata": {
      "needs_background": "light"
     },
     "output_type": "display_data"
    },
    {
     "name": "stdout",
     "output_type": "stream",
     "text": [
      "Asian           (n=  57) R= 11/  38(0.289)   P= 11/  17(0.647)   AUC=0.607\n"
     ]
    },
    {
     "data": {
      "image/png": "[encoded data removed]",
      "text/plain": [
       "<Figure size 432x288 with 1 Axes>"
      ]
     },
     "metadata": {
      "needs_background": "light"
     },
     "output_type": "display_data"
    }
   ],
   "source": [
    "# Per race recall @ top-10%\n",
    "n = int(0.9*len(test_pred))\n",
    "thr = sorted(test_pred)[n]\n",
    "\n",
    "test_demographics = demographics[demographics.hadm_id.isin(test_ids)]\n",
    "for race in ['White', 'Not Specified', 'Black', 'Other', 'Hispanic', 'Asian']:\n",
    "    #print(race)\n",
    "    #display(rows)\n",
    "    rows = test_demographics[test_demographics.race==race]\n",
    "    group_ids = list(set(rows.hadm_id))\n",
    "    group_features = [features[pid] for pid in group_ids]\n",
    "    group_X = vect.transform(group_features)\n",
    "    group_labels   = [labels[pid]   for pid in group_ids]\n",
    "    group_pred = xgb.predict_proba(group_X) [:,1]\n",
    "    \n",
    "    results = evaluate_performance(group_labels, group_pred, thr=thr)\n",
    "    conf = results['conf']\n",
    "    tp,fp,fn,tn = conf['TP'], conf['FP'], conf['FN'], conf['TN']\n",
    "    auc       = results['auc']\n",
    "    precision = results['precision']\n",
    "    recall    = results['recall']\n",
    "    \n",
    "    print(f'{race:15} (n={len(group_ids):4}) R={tp:3d}/{tp+fn:4}({recall:.3f})   P={tp:3d}/{tp+fp:4}({precision:.3f})   AUC={auc:.3f}')\n",
    "\n",
    "    # reliability diagram\n",
    "    fop, mpv = calibration_curve(group_labels, group_pred, n_bins=20)\n",
    "    # plot perfectly calibrated\n",
    "    pl.plot([0, 1], [0, 1], linestyle='--')\n",
    "    # plot model reliability\n",
    "    pl.plot(mpv, fop, marker='.')\n",
    "    pl.show()\n",
    "    \n",
    "    #break"
   ]
  },
  {
   "cell_type": "code",
   "execution_count": 30,
   "id": "prescription-halifax",
   "metadata": {},
   "outputs": [
    {
     "name": "stdout",
     "output_type": "stream",
     "text": [
      "[.     ] [religion=BUDDHIST                                   ]: 0.7780840367315294\n",
      "[.     ] [elixhausers=Metastatic cancer                       ]: 0.623716667323347\n",
      "[.     ] [discharge_location=SHORT TERM HOSPITAL              ]: 0.5144376066987726\n",
      "[.     ] [codestatus=dncpr                                    ]: 0.486970118153934\n",
      "[.     ] [sofa                                                ]: 0.4238998363262326\n",
      "[.     ] [saps                                                ]: 0.3187777038140298\n",
      "[.     ] [race=Asian                                          ]: 0.31595954071430127\n",
      "[.     ] [religion=JEHOVAH'S WITNESS                          ]: 0.3086131618841077\n",
      "[.     ] [elixhausers=Solid tumor without metastasis          ]: 0.27439553721014776\n",
      "[.     ] [race=Other                                          ]: 0.2305155598953253\n",
      "[.     ] [discharge_location=LONG TERM CARE HOSPITAL          ]: 0.2143586990777015\n",
      "[.     ] [elixhausers=Fluid and electroylte disorders         ]: 0.20623368571502593\n",
      "[.     ] [elixhausers=Liver disease                           ]: 0.20585772301860392\n",
      "[.     ] [religion=EPISCOPALIAN                               ]: 0.20452228684398638\n",
      "[.     ] [marital_status=UNKNOWN (DEFAULT)                    ]: 0.18496357176394349\n",
      "[.     ] [race=Black                                          ]: 0.18245997639501646\n",
      "[.     ] [admission_location=CLINIC REFERRAL/PREMATURE        ]: 0.1721730047357253\n",
      "[.     ] [elixhausers=Pulmonary circulation disorder          ]: 0.16972615322830018\n",
      "[.     ] [elixhausers=Weight loss                             ]: 0.14885682182762724\n",
      "[.     ] [religion=LUTHERAN                                   ]: 0.1406408384952808\n",
      "[.     ] [discharge_location=ICF                              ]: 0.1383036566414402\n",
      "[.     ] [elixhausers=Paralysis                               ]: 0.11999856277595318\n",
      "[.     ] [gender=F                                            ]: 0.11631675297338662\n",
      "[.     ] [gender=M                                            ]: 0.11547384211872264\n",
      "[.     ] [elixhausers=Lymphoma                                ]: 0.11540960850088097\n",
      "\n",
      "\n",
      "[.     ] [elixhausers=Deficiency anemia                       ]: -0.09919968746846616\n",
      "[.     ] [elixhausers=Alcohol abuse                           ]: -0.11660533058983365\n",
      "[.     ] [discharge_location=HOME HEALTH CARE                 ]: -0.12763821510856035\n",
      "[.     ] [religion=7TH DAY ADVENTIST                          ]: -0.12970471683173945\n",
      "[.     ] [religion=HINDU                                      ]: -0.1303344695075936\n",
      "[.     ] [codestatus=dni                                      ]: -0.13671395773280948\n",
      "[.     ] [religion=CHRISTIAN SCIENTIST                        ]: -0.15672331198464562\n",
      "[.     ] [religion=UNITARIAN-UNIVERSALIST                     ]: -0.16076525821874788\n",
      "[.     ] [admission_location=EMERGENCY ROOM ADMIT             ]: -0.16832363534979228\n",
      "[.     ] [race=Hispanic                                       ]: -0.16880820973011987\n",
      "[.     ] [discharge_location=DISC-TRAN CANCER/CHLDRN H        ]: -0.1749078317385435\n",
      "[.     ] [codestatus=none                                     ]: -0.17784328192220886\n",
      "[.     ] [religion=GREEK ORTHODOX                             ]: -0.17928102727334813\n",
      "[.     ] [discharge_location=DISCH-TRAN TO PSYCH HOSP         ]: -0.18000789429025252\n",
      "[.     ] [religion=None                                       ]: -0.21122827127708976\n",
      "[.     ] [admission_location=TRANSFER FROM HOSP/EXTRAM        ]: -0.21418303162181668\n",
      "[.     ] [religion=BAPTIST                                    ]: -0.22343668742259534\n",
      "[.     ] [religion=ROMANIAN EAST. ORTH                        ]: -0.24149121716539101\n",
      "[.     ] [discharge_location=OTHER FACILITY                   ]: -0.2520213437049239\n",
      "[.     ] [admission_type=ELECTIVE                             ]: -0.2670864541385508\n",
      "[.     ] [insurance=Self Pay                                  ]: -0.26760693175952416\n",
      "[.     ] [discharge_location=HOME                             ]: -0.27185192265245994\n",
      "[.     ] [marital_status=LIFE PARTNER                         ]: -0.3305556711726496\n",
      "[.     ] [codestatus=fullcode                                 ]: -0.3327649573078698\n",
      "[.     ] [race=Native American                                ]: -0.4686379562526698\n"
     ]
    },
    {
     "name": "stderr",
     "output_type": "stream",
     "text": [
      "/afs/csail.mit.edu/u/w/wboag/.conda/envs/wb/lib/python3.9/site-packages/sklearn/svm/_base.py:985: ConvergenceWarning: Liblinear failed to converge, increase the number of iterations.\n",
      "  warnings.warn(\"Liblinear failed to converge, increase \"\n"
     ]
    }
   ],
   "source": [
    "# Most informative features\n",
    "svm = LinearSVC()\n",
    "svm.fit(train_X, train_labels)\n",
    "\n",
    "# map the dimensions to names\n",
    "ind2feat =  { i:f for f,i in vect.vocabulary_.items() }\n",
    "\n",
    "# create a 2-by-m matrix for biary, rather than relying on 1-p bullshit\n",
    "coef_ = svm.coef_[0,:]\n",
    "\n",
    "# most informative features\n",
    "informative_feats = np.argsort(coef_)\n",
    "\n",
    "#'''\n",
    "# display what each feature is\n",
    "for dim in list(reversed(informative_feats))[:25]:\n",
    "    val = coef_[dim]\n",
    "\n",
    "    word = ind2feat[dim]\n",
    "    if word in icd_lookup:\n",
    "        desc = icd_lookup[word]\n",
    "    else:\n",
    "        desc = word\n",
    "        word = ''\n",
    "    print(f'[{word[:3]+\".\"+word[3:]:6s}] [{desc[:50]:52}]: {val}')\n",
    "    \n",
    "print('\\n')\n",
    "\n",
    "for dim in list(reversed(informative_feats))[-25:]:\n",
    "    val = coef_[dim]\n",
    "\n",
    "    word = ind2feat[dim]\n",
    "    if word in icd_lookup:\n",
    "        desc = icd_lookup[word]\n",
    "    else:\n",
    "        desc = word\n",
    "        word = ''\n",
    "    print(f'[{word[:3]+\".\"+word[3:]:6s}] [{desc[:50]:52}]: {val}')"
   ]
  },
  {
   "cell_type": "code",
   "execution_count": 38,
   "id": "altered-raleigh",
   "metadata": {},
   "outputs": [
    {
     "name": "stderr",
     "output_type": "stream",
     "text": [
      "100%|██████████| 20/20 [00:22<00:00,  1.11s/it]"
     ]
    },
    {
     "name": "stdout",
     "output_type": "stream",
     "text": [
      "AUC\n",
      "\tWhite          : $ 0.715 \\pm  0.010$\n",
      "\tNot Specified  : $ 0.701 \\pm  0.021$\n",
      "\tBlack          : $ 0.675 \\pm  0.023$\n",
      "\tOther          : $ 0.714 \\pm  0.047$\n",
      "\tHispanic       : $ 0.694 \\pm  0.082$\n",
      "\tAsian          : $ 0.658 \\pm  0.095$\n",
      "\tAll            : $ 0.715 \\pm  0.008$\n",
      "\n",
      "Recall\n",
      "\tWhite          : $ 0.163 \\pm  0.007$\n",
      "\tNot Specified  : $ 0.095 \\pm  0.022$\n",
      "\tBlack          : $ 0.201 \\pm  0.039$\n",
      "\tOther          : $ 0.158 \\pm  0.047$\n",
      "\tHispanic       : $ 0.148 \\pm  0.077$\n",
      "\tAsian          : $ 0.318 \\pm  0.082$\n",
      "\tAll            : $ 0.163 \\pm  0.004$\n",
      "\n",
      "Precision\n",
      "\tWhite          : $ 0.839 \\pm  0.022$\n",
      "\tNot Specified  : $ 0.805 \\pm  0.103$\n",
      "\tBlack          : $ 0.835 \\pm  0.064$\n",
      "\tOther          : $ 0.921 \\pm  0.085$\n",
      "\tHispanic       : $ 0.706 \\pm  0.197$\n",
      "\tAsian          : $ 0.827 \\pm  0.111$\n",
      "\tAll            : $ 0.835 \\pm  0.019$\n"
     ]
    },
    {
     "name": "stderr",
     "output_type": "stream",
     "text": [
      "\n"
     ]
    }
   ],
   "source": [
    "# Run multiple times\n",
    "aucs       = defaultdict(list)\n",
    "recalls    = defaultdict(list)\n",
    "precisions = defaultdict(list)\n",
    "scores = defaultdict(list)\n",
    "for i in tqdm.tqdm(range(20)):\n",
    "    # Randomly split data\n",
    "    ids = list(set(features.keys()) & set(labels.keys()))\n",
    "    random.shuffle(ids)\n",
    "    ind = int(0.7 * len(ids))\n",
    "    train_ids = ids[:ind]\n",
    "    test_ids  = ids[ ind:]\n",
    "\n",
    "    # train/test separation\n",
    "    train_features = [features[hadmid] for hadmid in train_ids]\n",
    "    test_features  = [features[hadmid] for hadmid in  test_ids]\n",
    "\n",
    "    train_labels = [labels[hadmid] for hadmid in train_ids]\n",
    "    test_labels  = [labels[hadmid] for hadmid in  test_ids]\n",
    "    \n",
    "    # vectorizer\n",
    "    vect = DictVectorizer()\n",
    "    vect.fit(train_features)\n",
    "    train_X = vect.transform(train_features)\n",
    "    test_X  = vect.transform( test_features)\n",
    "    \n",
    "    # fit model\n",
    "    xgb = xgboost.XGBClassifier(eval_metric='logloss', use_label_encoder=False)\n",
    "    xgb.fit(train_X, train_labels)\n",
    "    \n",
    "    # threshold across groups\n",
    "    test_pred = xgb.predict_proba(test_X) [:,1]\n",
    "    n = int(0.9*len(test_pred))\n",
    "    thr = sorted(test_pred)[n]\n",
    "    \n",
    "    # overall\n",
    "    \n",
    "    # predict and eval for black vs white\n",
    "    test_demographics = demographics[demographics.hadm_id.isin(test_ids)]\n",
    "    for race in ['White', 'Not Specified', 'Black', 'Other', 'Hispanic', 'Asian', 'All']:\n",
    "        if race == 'All':\n",
    "            rows = test_demographics\n",
    "        else:\n",
    "            rows = test_demographics[test_demographics.race==race]\n",
    "            \n",
    "        group_ids = list(set(rows.hadm_id))\n",
    "        group_features = [features[pid] for pid in group_ids]\n",
    "        group_X = vect.transform(group_features)\n",
    "        group_labels   = [labels[pid]   for pid in group_ids]\n",
    "        group_pred = xgb.predict_proba(group_X) [:,1]\n",
    "        \n",
    "        # Collect all risk scores across all 20 runs (cuz plotting median)\n",
    "        scores[race] += list(group_pred)\n",
    "\n",
    "        results = evaluate_performance(group_labels, group_pred, thr=thr)\n",
    "        aucs[race].append(results['auc'])\n",
    "        recalls[race].append(results['recall'])\n",
    "        precisions[race].append(results['precision'])\n",
    "\n",
    "\n",
    "print('AUC')\n",
    "for race in ['White', 'Not Specified', 'Black', 'Other', 'Hispanic', 'Asian', 'All']:\n",
    "    print(f'\\t{race:15}: ${np.mean(aucs[race]):6.3f} \\pm {np.std(aucs[race]):6.3f}$')\n",
    "    #for auc in aucs[race]:\n",
    "    #    print(f'\\t{auc}')\n",
    "    #print()\n",
    "print()\n",
    "    \n",
    "print('Recall')\n",
    "for race in ['White', 'Not Specified', 'Black', 'Other', 'Hispanic', 'Asian', 'All']:\n",
    "    print(f'\\t{race:15}: ${np.mean(recalls[race]):6.3f} \\pm {np.std(recalls[race]):6.3f}$')\n",
    "    #for r in recalls[race]:\n",
    "    #    print(f'\\t{r}')\n",
    "    #print()\n",
    "print()\n",
    "    \n",
    "print('Precision')\n",
    "for race in ['White', 'Not Specified', 'Black', 'Other', 'Hispanic', 'Asian', 'All']:\n",
    "    print(f'\\t{race:15}: ${np.mean(precisions[race]):6.3f} \\pm {np.std(precisions[race]):6.3f}$')\n",
    "    #for r in recalls[race]:\n",
    "    #    print(f'\\t{r}')\n",
    "    #print()"
   ]
  },
  {
   "cell_type": "code",
   "execution_count": 41,
   "id": "orange-command",
   "metadata": {},
   "outputs": [
    {
     "name": "stdout",
     "output_type": "stream",
     "text": [
      "\t\twhite: 1994.95 0.52083117\n",
      "\t\tblack: 185.2 0.63419855\n",
      "\t\tasian: 44.55 0.7608273\n"
     ]
    },
    {
     "name": "stderr",
     "output_type": "stream",
     "text": [
      "<ipython-input-41-0a83c41dcdb9>:45: MatplotlibDeprecationWarning: Adding an axes using the same arguments as a previous axes currently reuses the earlier instance.  In a future version, a new instance will always be created and returned.  Meanwhile, this warning can be suppressed, and the future behavior ensured, by passing a unique label to each axes instance.\n",
      "  ax = pl.subplot(111)\n"
     ]
    },
    {
     "data": {
      "image/png": "[encoded data removed]",
      "text/plain": [
       "<Figure size 432x288 with 1 Axes>"
      ]
     },
     "metadata": {
      "needs_background": "light"
     },
     "output_type": "display_data"
    }
   ],
   "source": [
    "def list_median(vals):\n",
    "    svals = sorted(vals)\n",
    "    return svals[int(len(svals)/2)]\n",
    "\n",
    "\n",
    "def plot_distributions(dists):\n",
    "    fig = pl.figure()\n",
    "\n",
    "    p1 = list(dists['White'])\n",
    "    p2 = list(dists['Black'])\n",
    "    p3 = list(dists['Asian'])\n",
    "    \n",
    "    white_median = list_median(p1)\n",
    "    black_median = list_median(p2)\n",
    "    asian_median = list_median(p3)\n",
    "    smallest_median = min(white_median, black_median, asian_median)\n",
    "    largest_median  = max(white_median, black_median, asian_median)\n",
    "\n",
    "    #colors = ['#00A6ED', '#FF5400']\n",
    "    colors = ['green', 'blue', 'tab:orange']\n",
    "    for i,race in enumerate(['White', 'Black', 'Asian']):\n",
    "        vals = list(dists[race])\n",
    "        pl.plot(np.sort(vals), np.linspace(0, 1, len(vals), endpoint=False), color=colors[i], label=race, lw=2)\n",
    "        #pl.xlim((0,0.4))\n",
    "        pl.xlim((0,1.0))\n",
    "        pl.ylim((0,1.0))\n",
    "\n",
    "        median = list_median(vals)\n",
    "        pl.axvline(x=median, linestyle=\"--\", lw=1, color=colors[i], alpha=0.8) \n",
    "        if median == smallest_median:\n",
    "            p = -.015\n",
    "            yoffset = 0\n",
    "        elif median == largest_median:\n",
    "            p = .015\n",
    "            yoffset = 0\n",
    "        else:\n",
    "            p = .005\n",
    "            yoffset = -.1\n",
    "        h = 'left'\n",
    "        #h = 'center'\n",
    "        pl.text(x=median+p, y=1.085+yoffset, horizontalalignment=h, s=\"median:\"      , fontsize=12, color=colors[i])\n",
    "        pl.text(x=median+p, y=1.01 +yoffset, horizontalalignment=h, s=f'{median:.3f}', fontsize=15, color=colors[i])\n",
    "\n",
    "\n",
    "    ax = pl.subplot(111)    \n",
    "    ax.spines[\"top\"].set_visible(False)    \n",
    "    ax.spines[\"right\"].set_visible(False)    \n",
    "    pl.yticks(fontsize=15)    \n",
    "    pl.xticks(fontsize=15) \n",
    "\n",
    "    pl.legend(loc=4, fontsize=17)\n",
    "    pl.ylabel(\"% patients with <= score\", fontsize=15)\n",
    "    pl.xlabel('risk score', fontsize=15)\n",
    "\n",
    "    pl.tight_layout()\n",
    "\n",
    "    w = mannwhitneyu(p1, p2)\n",
    "    print('\\t\\twhite:', len(p1)/20, white_median)\n",
    "    print('\\t\\tblack:', len(p2)/20, black_median)\n",
    "    print('\\t\\tasian:', len(p3)/20, asian_median)\n",
    "    pl.show()\n",
    "    \n",
    "\n",
    "    \n",
    "plot_distributions(scores)"
   ]
  },
  {
   "cell_type": "code",
   "execution_count": null,
   "id": "literary-carter",
   "metadata": {},
   "outputs": [],
   "source": []
  },
  {
   "cell_type": "code",
   "execution_count": null,
   "id": "polyphonic-denial",
   "metadata": {},
   "outputs": [],
   "source": []
  },
  {
   "cell_type": "code",
   "execution_count": null,
   "id": "nuclear-cleanup",
   "metadata": {},
   "outputs": [],
   "source": []
  },
  {
   "cell_type": "code",
   "execution_count": null,
   "id": "reported-hobby",
   "metadata": {},
   "outputs": [],
   "source": []
  },
  {
   "cell_type": "code",
   "execution_count": null,
   "id": "detailed-object",
   "metadata": {},
   "outputs": [],
   "source": []
  }
 ],
 "metadata": {
  "kernelspec": {
   "display_name": "Python 3",
   "language": "python",
   "name": "python3"
  },
  "language_info": {
   "codemirror_mode": {
    "name": "ipython",
    "version": 3
   },
   "file_extension": ".py",
   "mimetype": "text/x-python",
   "name": "python",
   "nbconvert_exporter": "python",
   "pygments_lexer": "ipython3",
   "version": "3.9.1"
  }
 },
 "nbformat": 4,
 "nbformat_minor": 5
}

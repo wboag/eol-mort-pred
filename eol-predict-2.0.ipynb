{
 "cells": [
  {
   "cell_type": "markdown",
   "id": "meaningful-preview",
   "metadata": {},
   "source": [
    "1.0 was finding that white patients had higher mortality rates post-discharge than black patients did. That is very unintuitive. Per Alistair, there is a data collection problem in the labels: https://github.com/MIT-LCP/mimic-code/issues/1199\n",
    "\n",
    "    Q: There is confusion around death dates from MIMIC data.\n",
    "\n",
    "    A: With MIMIC-III data we had dates of death outside of the hospital stay. However our source of dates of death became extremely poor sometime in ~2013, and so we no longer have it available for the majority of patients in MIMIC-IV. If papers are using 28-day mortality in MIMIC-IV, then they are misleading their readers unless they somewhere clarify it is 28-day mortality within the hospital.\n",
    "\n",
    "    Q: Did BIDMC stop getting the Social Security Death Index in 2013? Or did they just mess up and not correlate it with their clinical data? Having accurate DOD data has been a real boon to research because it's a more challenging prediction problem post-hospitalization than in-hospital or in-ICU mortality, but somewhat easier than a lot of other clinical prediction problems. Is there some way to get this for MIMIC-IV again? It can't be done by users because one would need access to the SSN, which the hospital has (at least had), but which they certainly can't release.\n",
    "\n",
    "    A: So.. fun story.. it's actually because of a legislative change which forbid the social security death index from collecting deaths from state databases. The result was a ~40% drop in the capture of deaths - it's no longer of sufficient quality to use as a source of out-of-hospital mortality. I looked into purchasing the data from the CDC, which would cost around $70k USD for MIMIC-IV. Still looking for grant opportunities!\n",
    "\n",
    "That explains that issue, because when I did a survival surve of patients who died post-discharge, black patients were sicker / dying faster every point of the surve.\n",
    "\n",
    "For that reason, this notebook, subsets analysis to patients with recorded dates of death. That way, patients who truly died (but it wasnt reflected in the labels) cant bias the training signal.\n"
   ]
  },
  {
   "cell_type": "code",
   "execution_count": 2,
   "id": "bronze-placement",
   "metadata": {},
   "outputs": [],
   "source": [
    "import psycopg2\n",
    "import pandas as pd\n",
    "import tqdm\n",
    "from collections import Counter, defaultdict\n",
    "import pylab as pl\n",
    "import random\n",
    "import xgboost\n",
    "from sklearn.feature_extraction import DictVectorizer\n",
    "from sklearn.metrics import roc_auc_score\n",
    "from sklearn.svm import LinearSVC\n",
    "import numpy as np\n",
    "from sklearn.calibration import calibration_curve\n",
    "from scipy.stats import mannwhitneyu\n",
    "from lifelines import KaplanMeierFitter\n",
    "\n",
    "\n",
    "pd.set_option('display.max_columns', None)"
   ]
  },
  {
   "cell_type": "code",
   "execution_count": 3,
   "id": "personal-argument",
   "metadata": {},
   "outputs": [],
   "source": [
    "# create a database connection\n",
    "sqluser = 'wboag'\n",
    "dbname = 'mimic'\n",
    "schema_name = 'mimiciii'\n",
    "\n",
    "# Connect to the database\n",
    "con = psycopg2.connect(dbname=dbname, user=sqluser, host=\"/var/run/postgresql\")"
   ]
  },
  {
   "cell_type": "markdown",
   "id": "lovely-flood",
   "metadata": {},
   "source": [
    "# Cohort Creation"
   ]
  },
  {
   "cell_type": "code",
   "execution_count": 4,
   "id": "verbal-gross",
   "metadata": {},
   "outputs": [
    {
     "name": "stdout",
     "output_type": "stream",
     "text": [
      "(9165, 22)\n"
     ]
    }
   ],
   "source": [
    "# TODO: exclude patients who die in-hospital\n",
    "cohort_query = '''\n",
    "WITH T AS (\n",
    "        SELECT subject_id, MAX(admittime) AS admittime\n",
    "        FROM mimiciii.admissions \n",
    "        GROUP BY subject_id\n",
    "        ),\n",
    "     EOL as (\n",
    "         select hadm_id\n",
    "         from mimiciii.diagnoses_icd\n",
    "         where icd9_code = 'V667'\n",
    "     )\n",
    "SELECT a.*, gender, dob, dod\n",
    "FROM mimiciii.admissions a\n",
    "    JOIN T ON T.subject_id = a.subject_id AND T.admittime = a.admittime\n",
    "    JOIN mimiciii.patients  p on p.subject_id = a.subject_id\n",
    "where a.hadm_id not in (select hadm_id from EOL)\n",
    "and ((dod is null) or (dod :: date - dischtime ::date >= 3))\n",
    "and a.discharge_location not in ('HOSPICE-HOME', 'HOSPICE-MEDICAL FACILITY', 'DEAD/EXPIRED')\n",
    "and dod is not null\n",
    "and (a.admittime :: date - dob ::date) / 365.25 >= 18\n",
    "--and insurance = 'Medicare'\n",
    "'''\n",
    "cohort = pd.read_sql_query(cohort_query, con)\n",
    "print(cohort.shape)\n",
    "cohort.head()"
   ]
  },
  {
   "cell_type": "code",
   "execution_count": 138,
   "id": "closed-survivor",
   "metadata": {},
   "outputs": [],
   "source": [
    "codestatus_df = pd.read_sql_query('select * from mimiciii.code_status', con)\n",
    "\n",
    "# get code statuses\n",
    "codestatus = {}\n",
    "for row in codestatus_df.itertuples():\n",
    "    if row.fullcode_last == 1:\n",
    "        cs = 'fullcode'\n",
    "    elif row.cmo_last == 1:\n",
    "        cs = 'cmo'\n",
    "    elif row.dnr_last == 1:\n",
    "        cs = 'dnr'\n",
    "    elif row.dni_last == 1:\n",
    "        cs = 'dni'\n",
    "    elif row.dncpr_last == 1:\n",
    "        cs = 'dncpr'\n",
    "    else:\n",
    "        cs = 'none'\n",
    "        \n",
    "    codestatus[row.hadm_id] = cs"
   ]
  },
  {
   "cell_type": "code",
   "execution_count": 139,
   "id": "generous-lawyer",
   "metadata": {},
   "outputs": [
    {
     "name": "stdout",
     "output_type": "stream",
     "text": [
      "1615\n",
      "(9144, 22)\n"
     ]
    }
   ],
   "source": [
    "cmo = set([hadm_id for hadm_id,cs in codestatus.items() if cs=='cmo'])\n",
    "print(len(cmo))\n",
    "\n",
    "cohort = cohort[~cohort.hadm_id.isin(cmo)]\n",
    "print(cohort.shape)"
   ]
  },
  {
   "cell_type": "code",
   "execution_count": 5,
   "id": "congressional-maryland",
   "metadata": {},
   "outputs": [
    {
     "name": "stdout",
     "output_type": "stream",
     "text": [
      "(9018, 4)\n"
     ]
    }
   ],
   "source": [
    "demographics_query = 'SELECT distinct subject_id,hadm_id,gender,ethnicity FROM mimiciii.icustay_detail;' \n",
    "demographics = pd.read_sql_query(demographics_query, con)\n",
    "\n",
    "# filter demographics to the patients in the cohort\n",
    "demographics = demographics[demographics.hadm_id.isin(set(cohort.hadm_id))]\n",
    "\n",
    "print(demographics.shape)\n",
    "demographics.head()"
   ]
  },
  {
   "cell_type": "code",
   "execution_count": 141,
   "id": "narrative-scotland",
   "metadata": {},
   "outputs": [],
   "source": [
    "def normalize_race(race):\n",
    "    if 'HISPANIC' in race:\n",
    "        return 'Hispanic'\n",
    "    if 'SOUTH AMERICAN' in race:\n",
    "        return 'Hispanic'\n",
    "    if 'AMERICAN INDIAN' in race:\n",
    "        return 'Native American'\n",
    "    if 'ASIAN' in race:\n",
    "        return 'Asian'\n",
    "    if 'BLACK' in race:\n",
    "        return 'Black'\n",
    "    if 'UNKNOWN/NOT SPECIFIED' in race:\n",
    "        return 'Not Specified'\n",
    "    if 'WHITE' in race:\n",
    "        return 'White'\n",
    "    #print race\n",
    "    return 'Other'\n",
    "\n",
    "demographics['race'] = demographics['ethnicity'].apply(normalize_race)\n",
    "\n",
    "race_lookup = defaultdict(lambda:'unk')\n",
    "race_lookup.update(dict(demographics[['hadm_id','race']].values))"
   ]
  },
  {
   "cell_type": "markdown",
   "id": "reasonable-fitness",
   "metadata": {},
   "source": [
    "# Feature and Labels"
   ]
  },
  {
   "cell_type": "code",
   "execution_count": 142,
   "id": "massive-genesis",
   "metadata": {},
   "outputs": [
    {
     "name": "stdout",
     "output_type": "stream",
     "text": [
      "9144\n",
      "0.5138888888888888\n"
     ]
    }
   ],
   "source": [
    "# identify who dies within 6 months\n",
    "died_within_6months = cohort[(cohort.dod - cohort.dischtime) <= pd.Timedelta(days=180)]\n",
    "died_within_12months = cohort[(cohort.dod - cohort.dischtime) <= pd.Timedelta(days=365)]\n",
    "died_postdisch = cohort[~cohort.dod.isnull()]\n",
    "\n",
    "# label every patient as dying within 6 months or not\n",
    "labels = {hadm_id:0 for hadm_id in cohort.hadm_id}\n",
    "#for hadm_id in died_within_6months.hadm_id:\n",
    "for hadm_id in died_within_12months.hadm_id:\n",
    "#for hadm_id in died_postdisch.hadm_id:\n",
    "    labels[hadm_id] = 1\n",
    "\n",
    "print(len(labels))\n",
    "\n",
    "# print positive percentage\n",
    "print(sum(labels.values()) / len(labels))"
   ]
  },
  {
   "cell_type": "code",
   "execution_count": 143,
   "id": "configured-dealer",
   "metadata": {},
   "outputs": [
    {
     "name": "stdout",
     "output_type": "stream",
     "text": [
      "9144\n",
      "8997\n",
      "9144\n"
     ]
    }
   ],
   "source": [
    "print(len(labels))\n",
    "print(len(set(demographics.hadm_id)))\n",
    "print(len(set(cohort.hadm_id)))\n"
   ]
  },
  {
   "cell_type": "code",
   "execution_count": 144,
   "id": "timely-shelter",
   "metadata": {},
   "outputs": [
    {
     "data": {
      "image/png": "[encoded data removed]",
      "text/plain": [
       "<Figure size 432x288 with 1 Axes>"
      ]
     },
     "metadata": {
      "needs_background": "light"
     },
     "output_type": "display_data"
    }
   ],
   "source": [
    "#died_postdisch\n",
    "died_postdisch['race']  = [race_lookup[row.hadm_id] for row in died_postdisch.itertuples()]\n",
    "ax = pl.subplot(111)\n",
    "for race,rows in died_postdisch.groupby('race'):\n",
    "    if race not in ['White', 'Black']: continue\n",
    "        \n",
    "    #print(race)\n",
    "    #display(rows)\n",
    "    times  = [t.days for t in (rows.dod - rows.dischtime)]\n",
    "    \n",
    "    kmf = KaplanMeierFitter()\n",
    "    kmf.fit(durations = times, label=race)\n",
    "    \n",
    "    kmf.plot_survival_function(ax = ax)\n"
   ]
  },
  {
   "cell_type": "code",
   "execution_count": 145,
   "id": "flying-facial",
   "metadata": {},
   "outputs": [
    {
     "name": "stdout",
     "output_type": "stream",
     "text": [
      "White           3492/ 6654 (0.525)\n",
      "Not Specified    420/ 1086 (0.387)\n",
      "Black            370/  602 (0.615)\n",
      "Other            171/  320 (0.534)\n",
      "Hispanic          81/  177 (0.458)\n",
      "Asian            104/  153 (0.680)\n"
     ]
    }
   ],
   "source": [
    "for race in ['White', 'Not Specified', 'Black', 'Other', 'Hispanic', 'Asian']:\n",
    "    rows = demographics[demographics.race==race]\n",
    "    group_ids = list(set(rows.hadm_id))\n",
    "    group_labels   = [labels[pid] for pid in group_ids]\n",
    "    print(f'{race:15} {sum(group_labels):4}/{len(group_labels):5} ({sum(group_labels)/len(group_labels):.3f})')"
   ]
  },
  {
   "cell_type": "code",
   "execution_count": 146,
   "id": "absent-instruction",
   "metadata": {},
   "outputs": [
    {
     "name": "stdout",
     "output_type": "stream",
     "text": [
      "(108681, 2)\n",
      "9143\n"
     ]
    },
    {
     "data": {
      "text/html": [
       "<div>\n",
       "<style scoped>\n",
       "    .dataframe tbody tr th:only-of-type {\n",
       "        vertical-align: middle;\n",
       "    }\n",
       "\n",
       "    .dataframe tbody tr th {\n",
       "        vertical-align: top;\n",
       "    }\n",
       "\n",
       "    .dataframe thead th {\n",
       "        text-align: right;\n",
       "    }\n",
       "</style>\n",
       "<table border=\"1\" class=\"dataframe\">\n",
       "  <thead>\n",
       "    <tr style=\"text-align: right;\">\n",
       "      <th></th>\n",
       "      <th>hadm_id</th>\n",
       "      <th>icd9_code</th>\n",
       "    </tr>\n",
       "  </thead>\n",
       "  <tbody>\n",
       "    <tr>\n",
       "      <th>42</th>\n",
       "      <td>114585</td>\n",
       "      <td>1940</td>\n",
       "    </tr>\n",
       "    <tr>\n",
       "      <th>43</th>\n",
       "      <td>114585</td>\n",
       "      <td>1977</td>\n",
       "    </tr>\n",
       "    <tr>\n",
       "      <th>44</th>\n",
       "      <td>114585</td>\n",
       "      <td>2553</td>\n",
       "    </tr>\n",
       "    <tr>\n",
       "      <th>45</th>\n",
       "      <td>114585</td>\n",
       "      <td>4240</td>\n",
       "    </tr>\n",
       "    <tr>\n",
       "      <th>46</th>\n",
       "      <td>114585</td>\n",
       "      <td>5845</td>\n",
       "    </tr>\n",
       "  </tbody>\n",
       "</table>\n",
       "</div>"
      ],
      "text/plain": [
       "    hadm_id icd9_code\n",
       "42   114585      1940\n",
       "43   114585      1977\n",
       "44   114585      2553\n",
       "45   114585      4240\n",
       "46   114585      5845"
      ]
     },
     "execution_count": 146,
     "metadata": {},
     "output_type": "execute_result"
    }
   ],
   "source": [
    "# Get ICD codes\n",
    "icd_query = '''\n",
    "select icd.hadm_id, icd.icd9_code\n",
    "from mimiciii.DIAGNOSES_ICD icd\n",
    "inner join mimiciii.d_icd_diagnoses d on d.icd9_code = icd.icd9_code\n",
    "--limit 500\n",
    "'''\n",
    "icd_df = pd.read_sql_query(icd_query, con)\n",
    "icd_df = icd_df[icd_df.hadm_id.isin(set(cohort.hadm_id))]\n",
    "print(icd_df.shape)\n",
    "print(len(set(icd_df.hadm_id)))\n",
    "icd_df.head()"
   ]
  },
  {
   "cell_type": "code",
   "execution_count": 147,
   "id": "dominant-thesis",
   "metadata": {},
   "outputs": [
    {
     "data": {
      "text/plain": [
       "{'01166': 'Tuberculous pneumonia [any form], tubercle bacilli not found by bacteriological or histological examination, but tuberculosis confirmed by other methods [inoculation of animals]',\n",
       " '01170': 'Tuberculous pneumothorax, unspecified',\n",
       " '01171': 'Tuberculous pneumothorax, bacteriological or histological examination not done'}"
      ]
     },
     "execution_count": 147,
     "metadata": {},
     "output_type": "execute_result"
    }
   ],
   "source": [
    "d_icd = pd.read_sql_query('select * from mimiciii.d_icd_diagnoses', con)\n",
    "icd_lookup = dict(d_icd[['icd9_code','long_title']].values)\n",
    "#icd_lookup = {str(k):v for k,v in icd_df[['icd9_code','short_title']].values}\n",
    "dict(list(icd_lookup.items())[:3])"
   ]
  },
  {
   "cell_type": "code",
   "execution_count": 148,
   "id": "manufactured-statement",
   "metadata": {},
   "outputs": [
    {
     "data": {
      "text/plain": [
       "(0.0, 750.0, 0.0, 1000.0)"
      ]
     },
     "execution_count": 148,
     "metadata": {},
     "output_type": "execute_result"
    },
    {
     "data": {
      "image/png": "[encoded data removed]",
      "text/plain": [
       "<Figure size 432x288 with 1 Axes>"
      ]
     },
     "metadata": {
      "needs_background": "light"
     },
     "output_type": "display_data"
    }
   ],
   "source": [
    "# Frequency of ICDs\n",
    "icd_freq = Counter(icd_df.icd9_code)\n",
    "\n",
    "pl.hist(icd_freq.values(), bins=2000)\n",
    "pl.axis([0, 750, 0, 1000])"
   ]
  },
  {
   "cell_type": "code",
   "execution_count": 149,
   "id": "imported-retro",
   "metadata": {},
   "outputs": [
    {
     "name": "stderr",
     "output_type": "stream",
     "text": [
      "100%|██████████| 9143/9143 [00:11<00:00, 810.35it/s]"
     ]
    },
    {
     "name": "stdout",
     "output_type": "stream",
     "text": [
      "9143\n"
     ]
    },
    {
     "name": "stderr",
     "output_type": "stream",
     "text": [
      "\n"
     ]
    }
   ],
   "source": [
    "features = {}\n",
    "for hadm_id,rows in tqdm.tqdm(icd_df.groupby('hadm_id')):\n",
    "    feats = {}\n",
    "    \n",
    "    # ICD features\n",
    "    for icd in rows.icd9_code:\n",
    "        if icd_freq[icd] > 5:\n",
    "            feats[icd] = 1\n",
    "            \n",
    "    # demographic features\n",
    "    drows = demographics[demographics.hadm_id==hadm_id]\n",
    "    if len(drows):\n",
    "        feats[    f'race={drows.race.values[0]}'] = 1\n",
    "        feats[f'gender={drows.gender.values[0]}'] = 1\n",
    "        pass\n",
    "    \n",
    "    crows = cohort[cohort.hadm_id==hadm_id]\n",
    "    feats['age'] = (crows.admittime.values[0] - crows.dob.values[0]) / (np.timedelta64(1, 'D') * 365.25)\n",
    "    \n",
    "    features[hadm_id] = feats\n",
    "    \n",
    "print(len(features))"
   ]
  },
  {
   "cell_type": "markdown",
   "id": "nasty-chaos",
   "metadata": {},
   "source": [
    "# ML Model"
   ]
  },
  {
   "cell_type": "code",
   "execution_count": 151,
   "id": "prerequisite-child",
   "metadata": {},
   "outputs": [
    {
     "name": "stdout",
     "output_type": "stream",
     "text": [
      "6400 2743\n"
     ]
    }
   ],
   "source": [
    "ids = list(set(features.keys()) & set(labels.keys()))\n",
    "random.shuffle(ids)\n",
    "\n",
    "ind = int(0.7 * len(ids))\n",
    "train_ids = ids[:ind]\n",
    "test_ids  = ids[ ind:]\n",
    "\n",
    "print(len(train_ids), len(test_ids))"
   ]
  },
  {
   "cell_type": "code",
   "execution_count": 152,
   "id": "corresponding-sellers",
   "metadata": {},
   "outputs": [],
   "source": [
    "train_features = [features[hadmid] for hadmid in train_ids]\n",
    "test_features  = [features[hadmid] for hadmid in  test_ids]\n",
    "\n",
    "train_labels = [labels[hadmid] for hadmid in train_ids]\n",
    "test_labels  = [labels[hadmid] for hadmid in  test_ids]"
   ]
  },
  {
   "cell_type": "code",
   "execution_count": 153,
   "id": "adequate-wildlife",
   "metadata": {},
   "outputs": [
    {
     "data": {
      "text/plain": [
       "DictVectorizer()"
      ]
     },
     "execution_count": 153,
     "metadata": {},
     "output_type": "execute_result"
    }
   ],
   "source": [
    "vect = DictVectorizer()\n",
    "vect.fit(train_features)"
   ]
  },
  {
   "cell_type": "code",
   "execution_count": 154,
   "id": "complete-difficulty",
   "metadata": {},
   "outputs": [
    {
     "name": "stdout",
     "output_type": "stream",
     "text": [
      "(6400, 1422)\n",
      "(2743, 1422)\n"
     ]
    }
   ],
   "source": [
    "train_X = vect.transform(train_features)\n",
    "test_X  = vect.transform( test_features)\n",
    "\n",
    "print(train_X.shape)\n",
    "print(test_X.shape)"
   ]
  },
  {
   "cell_type": "code",
   "execution_count": 155,
   "id": "through-winter",
   "metadata": {},
   "outputs": [
    {
     "name": "stderr",
     "output_type": "stream",
     "text": [
      "/afs/csail.mit.edu/u/w/wboag/.conda/envs/wb/lib/python3.9/site-packages/xgboost/sklearn.py:1224: UserWarning: The use of label encoder in XGBClassifier is deprecated and will be removed in a future release. To remove this warning, do the following: 1) Pass option use_label_encoder=False when constructing XGBClassifier object; and 2) Encode your labels (y) as integers starting with 0, i.e. 0, 1, 2, ..., [num_class - 1].\n",
      "  warnings.warn(label_encoder_deprecation_msg, UserWarning)\n"
     ]
    },
    {
     "data": {
      "text/plain": [
       "XGBClassifier(base_score=0.5, booster='gbtree', colsample_bylevel=1,\n",
       "              colsample_bynode=1, colsample_bytree=1, enable_categorical=False,\n",
       "              eval_metric='logloss', gamma=0, gpu_id=-1, importance_type=None,\n",
       "              interaction_constraints='', learning_rate=0.300000012,\n",
       "              max_delta_step=0, max_depth=6, min_child_weight=1, missing=nan,\n",
       "              monotone_constraints='()', n_estimators=100, n_jobs=32,\n",
       "              num_parallel_tree=1, predictor='auto', random_state=0,\n",
       "              reg_alpha=0, reg_lambda=1, scale_pos_weight=1, subsample=1,\n",
       "              tree_method='exact', validate_parameters=1, verbosity=None)"
      ]
     },
     "execution_count": 155,
     "metadata": {},
     "output_type": "execute_result"
    }
   ],
   "source": [
    "xgb = xgboost.XGBClassifier(eval_metric='logloss')\n",
    "xgb.fit(train_X, train_labels)"
   ]
  },
  {
   "cell_type": "markdown",
   "id": "bearing-astrology",
   "metadata": {},
   "source": [
    "# Evaluation"
   ]
  },
  {
   "cell_type": "code",
   "execution_count": 156,
   "id": "portuguese-respect",
   "metadata": {},
   "outputs": [],
   "source": [
    "def evaluate_performance(labels, preds, thr=None):\n",
    "    #print('AAA:', len(labels), len(preds))\n",
    "    \n",
    "    if not thr:\n",
    "        n = int(0.9*len(preds))\n",
    "        thr = sorted(preds)[n]\n",
    "        \n",
    "    preds_thr = [int(p>=thr) for p in preds]\n",
    "    \n",
    "    # confusion matrix\n",
    "    tp,fp,fn,tn = 0,0,0,0\n",
    "    for ref,pred in zip(labels,preds_thr):\n",
    "        if   ref==0 and pred==0: tn += 1\n",
    "        elif ref==0 and pred==1: fp += 1\n",
    "        elif ref==1 and pred==0: fn += 1\n",
    "        elif ref==1 and pred==1: tp += 1\n",
    "    conf = {'TP':tp, 'FP':fp, 'FN':fn, 'TN':tn}\n",
    "    recall    = float(tp) / (tp+fn+1e-9)\n",
    "    precision = float(tp) / (tp+fp+1e-9)\n",
    "    #print(conf)\n",
    "    #print(recall)\n",
    "    \n",
    "    # AUC\n",
    "    #print(labels)\n",
    "    #print(preds)\n",
    "    auc = roc_auc_score(labels, preds)\n",
    "            \n",
    "    results = {'recall':recall, 'precision':precision, 'auc':auc, 'conf':conf}\n",
    "    return results"
   ]
  },
  {
   "cell_type": "code",
   "execution_count": 157,
   "id": "bound-honduras",
   "metadata": {},
   "outputs": [
    {
     "name": "stdout",
     "output_type": "stream",
     "text": [
      "(2743,)\n"
     ]
    }
   ],
   "source": [
    "test_pred = xgb.predict_proba(test_X)[:,1]\n",
    "\n",
    "print(test_pred.shape)"
   ]
  },
  {
   "cell_type": "code",
   "execution_count": 158,
   "id": "minimal-tooth",
   "metadata": {},
   "outputs": [
    {
     "data": {
      "image/png": "[encoded data removed]",
      "text/plain": [
       "<Figure size 432x288 with 1 Axes>"
      ]
     },
     "metadata": {
      "needs_background": "light"
     },
     "output_type": "display_data"
    }
   ],
   "source": [
    "pl.hist(test_pred, bins=20)\n",
    "pl.show()"
   ]
  },
  {
   "cell_type": "code",
   "execution_count": 159,
   "id": "preceding-birmingham",
   "metadata": {},
   "outputs": [
    {
     "data": {
      "image/png": "[encoded data removed]",
      "text/plain": [
       "<Figure size 432x288 with 1 Axes>"
      ]
     },
     "metadata": {
      "needs_background": "light"
     },
     "output_type": "display_data"
    }
   ],
   "source": [
    "# reliability diagram\n",
    "fop, mpv = calibration_curve(test_labels, test_pred, n_bins=20)\n",
    "# plot perfectly calibrated\n",
    "pl.plot([0, 1], [0, 1], linestyle='--')\n",
    "# plot model reliability\n",
    "pl.plot(mpv, fop, marker='.')\n",
    "pl.show()"
   ]
  },
  {
   "cell_type": "code",
   "execution_count": 160,
   "id": "presidential-adrian",
   "metadata": {},
   "outputs": [
    {
     "data": {
      "text/plain": [
       "0.7230120314058834"
      ]
     },
     "execution_count": 160,
     "metadata": {},
     "output_type": "execute_result"
    }
   ],
   "source": [
    "# Overall AUC\n",
    "roc_auc_score(test_labels, test_pred)"
   ]
  },
  {
   "cell_type": "code",
   "execution_count": 161,
   "id": "hundred-energy",
   "metadata": {},
   "outputs": [
    {
     "name": "stdout",
     "output_type": "stream",
     "text": [
      "White           (n=1973) R=184/1036(0.178)   P=184/ 216(0.852)   AUC=0.716\n"
     ]
    },
    {
     "data": {
      "image/png": "[encoded data removed]",
      "text/plain": [
       "<Figure size 432x288 with 1 Axes>"
      ]
     },
     "metadata": {
      "needs_background": "light"
     },
     "output_type": "display_data"
    },
    {
     "name": "stdout",
     "output_type": "stream",
     "text": [
      "Not Specified   (n= 330) R=  9/ 113(0.080)   P=  9/   9(1.000)   AUC=0.735\n"
     ]
    },
    {
     "data": {
      "image/png": "[encoded data removed]",
      "text/plain": [
       "<Figure size 432x288 with 1 Axes>"
      ]
     },
     "metadata": {
      "needs_background": "light"
     },
     "output_type": "display_data"
    },
    {
     "name": "stdout",
     "output_type": "stream",
     "text": [
      "Black           (n= 178) R= 15/ 106(0.142)   P= 15/  17(0.882)   AUC=0.683\n"
     ]
    },
    {
     "data": {
      "image/png": "[encoded data removed]",
      "text/plain": [
       "<Figure size 432x288 with 1 Axes>"
      ]
     },
     "metadata": {
      "needs_background": "light"
     },
     "output_type": "display_data"
    },
    {
     "name": "stdout",
     "output_type": "stream",
     "text": [
      "Other           (n=  93) R=  5/  52(0.096)   P=  5/   8(0.625)   AUC=0.694\n"
     ]
    },
    {
     "data": {
      "image/png": "[encoded data removed]",
      "text/plain": [
       "<Figure size 432x288 with 1 Axes>"
      ]
     },
     "metadata": {
      "needs_background": "light"
     },
     "output_type": "display_data"
    },
    {
     "name": "stdout",
     "output_type": "stream",
     "text": [
      "Hispanic        (n=  63) R=  5/  28(0.179)   P=  5/   5(1.000)   AUC=0.699\n"
     ]
    },
    {
     "data": {
      "image/png": "[encoded data removed]",
      "text/plain": [
       "<Figure size 432x288 with 1 Axes>"
      ]
     },
     "metadata": {
      "needs_background": "light"
     },
     "output_type": "display_data"
    },
    {
     "name": "stdout",
     "output_type": "stream",
     "text": [
      "Asian           (n=  61) R= 12/  42(0.286)   P= 12/  14(0.857)   AUC=0.617\n"
     ]
    },
    {
     "data": {
      "image/png": "[encoded data removed]",
      "text/plain": [
       "<Figure size 432x288 with 1 Axes>"
      ]
     },
     "metadata": {
      "needs_background": "light"
     },
     "output_type": "display_data"
    }
   ],
   "source": [
    "# Per race recall @ top-10%\n",
    "n = int(0.9*len(test_pred))\n",
    "thr = sorted(test_pred)[n]\n",
    "\n",
    "test_demographics = demographics[demographics.hadm_id.isin(test_ids)]\n",
    "for race in ['White', 'Not Specified', 'Black', 'Other', 'Hispanic', 'Asian']:\n",
    "    #print(race)\n",
    "    #display(rows)\n",
    "    rows = test_demographics[test_demographics.race==race]\n",
    "    group_ids = list(set(rows.hadm_id))\n",
    "    group_features = [features[pid] for pid in group_ids]\n",
    "    group_X = vect.transform(group_features)\n",
    "    group_labels   = [labels[pid]   for pid in group_ids]\n",
    "    group_pred = xgb.predict_proba(group_X) [:,1]\n",
    "    \n",
    "    results = evaluate_performance(group_labels, group_pred, thr=thr)\n",
    "    conf = results['conf']\n",
    "    tp,fp,fn,tn = conf['TP'], conf['FP'], conf['FN'], conf['TN']\n",
    "    auc       = results['auc']\n",
    "    precision = results['precision']\n",
    "    recall    = results['recall']\n",
    "    \n",
    "    print(f'{race:15} (n={len(group_ids):4}) R={tp:3d}/{tp+fn:4}({recall:.3f})   P={tp:3d}/{tp+fp:4}({precision:.3f})   AUC={auc:.3f}')\n",
    "\n",
    "    # reliability diagram\n",
    "    fop, mpv = calibration_curve(group_labels, group_pred, n_bins=20)\n",
    "    # plot perfectly calibrated\n",
    "    pl.plot([0, 1], [0, 1], linestyle='--')\n",
    "    # plot model reliability\n",
    "    pl.plot(mpv, fop, marker='.')\n",
    "    pl.show()\n",
    "    \n",
    "    #break"
   ]
  },
  {
   "cell_type": "code",
   "execution_count": 162,
   "id": "prescription-halifax",
   "metadata": {},
   "outputs": [
    {
     "name": "stdout",
     "output_type": "stream",
     "text": [
      "[191.2 ] [Malignant neoplasm of temporal lobe                 ]: 0.9251133801923446\n",
      "[723.1 ] [Cervicalgia                                         ]: 0.8918201917861572\n",
      "[157.8 ] [Malignant neoplasm of other specified sites of pan  ]: 0.8606433760727977\n",
      "[155.1 ] [Malignant neoplasm of intrahepatic bile ducts       ]: 0.7567797909307156\n",
      "[322.9 ] [Meningitis, unspecified                             ]: 0.7366757887175381\n",
      "[284.89] [Other specified aplastic anemias                    ]: 0.7255259409967015\n",
      "[191.1 ] [Malignant neoplasm of frontal lobe                  ]: 0.7234889408205091\n",
      "[V49.86] [Do not resuscitate status                           ]: 0.7087033199568555\n",
      "[251.1 ] [Other specified hypoglycemia                        ]: 0.6973531437729409\n",
      "[292.12] [Drug-induced psychotic disorder with hallucination  ]: 0.6885468468473996\n",
      "[623.8 ] [Other specified noninflammatory disorders of vagin  ]: 0.6854728797206817\n",
      "[478.29] [Other diseases of pharynx, not elsewhere classifie  ]: 0.6852166841296842\n",
      "[301.83] [Borderline personality disorder                     ]: 0.68270833926991\n",
      "[965.09] [Poisoning by other opiates and related narcotics    ]: 0.6806460423050038\n",
      "[V85.0 ] [Body Mass Index less than 19, adult                 ]: 0.6672777513936641\n",
      "[997.01] [Central nervous system complication                 ]: 0.6536404018204802\n",
      "[436.  ] [Acute, but ill-defined, cerebrovascular disease     ]: 0.6475849173393443\n",
      "[780.52] [Insomnia, unspecified                               ]: 0.6326090589660864\n",
      "[710.2 ] [Sicca syndrome                                      ]: 0.6188547871438055\n",
      "[199.1 ] [Other malignant neoplasm without specification of   ]: 0.6104757697825136\n",
      "[155.0 ] [Malignant neoplasm of liver, primary                ]: 0.60666740536859\n",
      "[730.28] [Unspecified osteomyelitis, other specified sites    ]: 0.6050690297197653\n",
      "[191.3 ] [Malignant neoplasm of parietal lobe                 ]: 0.6039581291293146\n",
      "[E87.80] [Surgical operation with transplant of whole organ   ]: 0.5938000420828186\n",
      "[305.60] [Cocaine abuse, unspecified                          ]: 0.5890102544280298\n",
      "\n",
      "\n",
      "[338.18] [Other acute postoperative pain                      ]: -0.5034051551007602\n",
      "[442.2 ] [Aneurysm of iliac artery                            ]: -0.5170176944386\n",
      "[211.1 ] [Benign neoplasm of stomach                          ]: -0.519737764440803\n",
      "[410.31] [Acute myocardial infarction of inferoposterior wal  ]: -0.5242466382720943\n",
      "[305.03] [Alcohol abuse, in remission                         ]: -0.525519602272312\n",
      "[907.2 ] [Late effect of spinal cord injury                   ]: -0.5285082173482535\n",
      "[481.  ] [Pneumococcal pneumonia [Streptococcus pneumoniae p  ]: -0.5329143259992268\n",
      "[038.12] [Methicillin resistant Staphylococcus aureus septic  ]: -0.5356466608469667\n",
      "[996.79] [Other complications due to other internal prosthet  ]: -0.5442325517696511\n",
      "[728.86] [Necrotizing fasciitis                               ]: -0.555403303653916\n",
      "[805.4 ] [Closed fracture of lumbar vertebra without mention  ]: -0.5634550263081844\n",
      "[531.00] [Acute gastric ulcer with hemorrhage, without menti  ]: -0.6213123464031146\n",
      "[E92.90] [Late effects of motor vehicle accident              ]: -0.625012625833951\n",
      "[V16.0 ] [Family history of malignant neoplasm of gastrointe  ]: -0.6291592710336158\n",
      "[344.89] [Other specified paralytic syndrome                  ]: -0.6305656640183877\n",
      "[996.67] [Infection and inflammatory reaction due to other i  ]: -0.6437273252042257\n",
      "[V11.3 ] [Personal history of alcoholism                      ]: -0.644118426851449\n",
      "[965.4 ] [Poisoning by aromatic analgesics, not elsewhere cl  ]: -0.6635311983022321\n",
      "[296.20] [Major depressive affective disorder, single episod  ]: -0.6991416662681891\n",
      "[345.50] [Localization-related (focal) (partial) epilepsy an  ]: -0.7034569497852112\n",
      "[592.0 ] [Calculus of kidney                                  ]: -0.7076936885071395\n",
      "[296.30] [Major depressive affective disorder, recurrent epi  ]: -0.7150379751464504\n",
      "[422.91] [Idiopathic myocarditis                              ]: -0.72975763570277\n",
      "[281.1 ] [Other vitamin B12 deficiency anemia                 ]: -0.7997961925713604\n",
      "[250.20] [Diabetes with hyperosmolarity, type II or unspecif  ]: -0.9332816068886269\n"
     ]
    },
    {
     "name": "stderr",
     "output_type": "stream",
     "text": [
      "/afs/csail.mit.edu/u/w/wboag/.conda/envs/wb/lib/python3.9/site-packages/sklearn/svm/_base.py:985: ConvergenceWarning: Liblinear failed to converge, increase the number of iterations.\n",
      "  warnings.warn(\"Liblinear failed to converge, increase \"\n"
     ]
    }
   ],
   "source": [
    "# Most informative features\n",
    "svm = LinearSVC()\n",
    "svm.fit(train_X, train_labels)\n",
    "\n",
    "# map the dimensions to names\n",
    "ind2feat =  { i:f for f,i in vect.vocabulary_.items() }\n",
    "\n",
    "# create a 2-by-m matrix for biary, rather than relying on 1-p bullshit\n",
    "coef_ = svm.coef_[0,:]\n",
    "\n",
    "# most informative features\n",
    "informative_feats = np.argsort(coef_)\n",
    "\n",
    "#'''\n",
    "# display what each feature is\n",
    "for dim in list(reversed(informative_feats))[:25]:\n",
    "    val = coef_[dim]\n",
    "\n",
    "    word = ind2feat[dim]\n",
    "    desc = icd_lookup[word]\n",
    "    print(f'[{word[:3]+\".\"+word[3:]:6s}] [{desc[:50]:52}]: {val}')\n",
    "    \n",
    "print('\\n')\n",
    "\n",
    "for dim in list(reversed(informative_feats))[-25:]:\n",
    "    val = coef_[dim]\n",
    "\n",
    "    word = ind2feat[dim]\n",
    "    desc = icd_lookup[word]\n",
    "    print(f'[{word[:3]+\".\"+word[3:]:6s}] [{desc[:50]:52}]: {val}')"
   ]
  },
  {
   "cell_type": "code",
   "execution_count": 163,
   "id": "rental-martin",
   "metadata": {
    "scrolled": true
   },
   "outputs": [
    {
     "name": "stdout",
     "output_type": "stream",
     "text": [
      "[191.2 ] [Malignant neoplasm of temporal lobe                 ] mort=14/16 (0.875)\n",
      "\tBlack          : n=1\n",
      "\tOther          : n=1\n",
      "\tWhite          : n=12\n",
      "[723.1 ] [Cervicalgia                                         ] mort= 5/ 6 (0.833)\n",
      "\tWhite          : n=6\n",
      "[157.8 ] [Malignant neoplasm of other specified sites of pan  ] mort=29/32 (0.906)\n",
      "\tAsian          : n=2\n",
      "\tBlack          : n=3\n",
      "\tNot Specified  : n=1\n",
      "\tOther          : n=1\n",
      "\tWhite          : n=24\n",
      "[155.1 ] [Malignant neoplasm of intrahepatic bile ducts       ] mort=17/19 (0.895)\n",
      "\tAsian          : n=2\n",
      "\tHispanic       : n=1\n",
      "\tWhite          : n=16\n",
      "[322.9 ] [Meningitis, unspecified                             ] mort= 7/ 7 (1.0)\n",
      "\tAsian          : n=1\n",
      "\tBlack          : n=1\n",
      "\tWhite          : n=5\n",
      "[284.89] [Other specified aplastic anemias                    ] mort=11/11 (1.0)\n",
      "\tBlack          : n=1\n",
      "\tWhite          : n=10\n",
      "[191.1 ] [Malignant neoplasm of frontal lobe                  ] mort=13/16 (0.812)\n",
      "\tWhite          : n=15\n",
      "[V49.86] [Do not resuscitate status                           ] mort=134/143 (0.937)\n",
      "\tAsian          : n=5\n",
      "\tBlack          : n=11\n",
      "\tHispanic       : n=4\n",
      "\tNot Specified  : n=4\n",
      "\tOther          : n=4\n",
      "\tWhite          : n=115\n",
      "[251.1 ] [Other specified hypoglycemia                        ] mort= 3/ 3 (1.0)\n",
      "\tWhite          : n=3\n",
      "[292.12] [Drug-induced psychotic disorder with hallucination  ] mort= 4/ 4 (1.0)\n",
      "\tWhite          : n=4\n",
      "[623.8 ] [Other specified noninflammatory disorders of vagin  ] mort= 3/ 4 (0.75)\n",
      "\tBlack          : n=1\n",
      "\tHispanic       : n=1\n",
      "\tNot Specified  : n=1\n",
      "\tWhite          : n=1\n",
      "[478.29] [Other diseases of pharynx, not elsewhere classifie  ] mort= 7/ 7 (1.0)\n",
      "\tBlack          : n=2\n",
      "\tWhite          : n=5\n",
      "[301.83] [Borderline personality disorder                     ] mort= 4/ 4 (1.0)\n",
      "\tWhite          : n=4\n",
      "[965.09] [Poisoning by other opiates and related narcotics    ] mort= 6/ 7 (0.857)\n",
      "\tBlack          : n=1\n",
      "\tOther          : n=1\n",
      "\tWhite          : n=5\n",
      "[V85.0 ] [Body Mass Index less than 19, adult                 ] mort=14/15 (0.933)\n",
      "\tBlack          : n=2\n",
      "\tNot Specified  : n=1\n",
      "\tWhite          : n=12\n",
      "[997.01] [Central nervous system complication                 ] mort= 4/ 5 (0.8)\n",
      "\tNot Specified  : n=3\n",
      "\tWhite          : n=1\n",
      "[436.  ] [Acute, but ill-defined, cerebrovascular disease     ] mort= 3/ 4 (0.75)\n",
      "\tWhite          : n=4\n",
      "[780.52] [Insomnia, unspecified                               ] mort=29/34 (0.853)\n",
      "\tHispanic       : n=1\n",
      "\tNot Specified  : n=1\n",
      "\tOther          : n=1\n",
      "\tWhite          : n=30\n",
      "[710.2 ] [Sicca syndrome                                      ] mort= 4/ 6 (0.667)\n",
      "\tBlack          : n=1\n",
      "\tNot Specified  : n=1\n",
      "\tWhite          : n=4\n",
      "[199.1 ] [Other malignant neoplasm without specification of   ] mort=28/33 (0.848)\n",
      "\tAsian          : n=1\n",
      "\tBlack          : n=2\n",
      "\tHispanic       : n=2\n",
      "\tNot Specified  : n=2\n",
      "\tOther          : n=1\n",
      "\tWhite          : n=25\n",
      "[155.0 ] [Malignant neoplasm of liver, primary                ] mort=47/57 (0.825)\n",
      "\tAsian          : n=7\n",
      "\tBlack          : n=4\n",
      "\tHispanic       : n=6\n",
      "\tNot Specified  : n=2\n",
      "\tOther          : n=2\n",
      "\tWhite          : n=36\n",
      "[730.28] [Unspecified osteomyelitis, other specified sites    ] mort=13/13 (1.0)\n",
      "\tBlack          : n=2\n",
      "\tNot Specified  : n=1\n",
      "\tWhite          : n=10\n",
      "[191.3 ] [Malignant neoplasm of parietal lobe                 ] mort=10/16 (0.625)\n",
      "\tWhite          : n=16\n",
      "[E87.80] [Surgical operation with transplant of whole organ   ] mort=19/23 (0.826)\n",
      "\tAsian          : n=3\n",
      "\tBlack          : n=2\n",
      "\tOther          : n=2\n",
      "\tWhite          : n=15\n",
      "[305.60] [Cocaine abuse, unspecified                          ] mort=14/24 (0.583)\n",
      "\tBlack          : n=6\n",
      "\tHispanic       : n=1\n",
      "\tNot Specified  : n=3\n",
      "\tOther          : n=2\n",
      "\tWhite          : n=11\n"
     ]
    }
   ],
   "source": [
    "for dim in list(reversed(informative_feats))[:25]:\n",
    "    word = ind2feat[dim]\n",
    "    desc = icd_lookup[word]\n",
    "    \n",
    "    # Look at prevalance in W vs B population\n",
    "    pt_nums = train_X[:,dim].nonzero()[0]\n",
    "    hadm_ids = [train_ids[ptnum] for ptnum in pt_nums]\n",
    "    group_labels = [labels[hadm_id] for hadm_id in hadm_ids]\n",
    "    frac_mort = float(sum(group_labels)) / len(group_labels)\n",
    "    group_demographics = demographics[demographics.hadm_id.isin(hadm_ids)]\n",
    "\n",
    "    print(f'[{word[:3]+\".\"+word[3:]:6s}] [{desc[:50]:52}] mort={sum(group_labels):2}/{len(group_labels):2} ({frac_mort:.3})')\n",
    "    for race,rows in group_demographics.groupby('race'):\n",
    "        print(f'\\t{race:15}: n={len(rows)}')\n",
    "    #display(group_demographics)\n",
    "    \n",
    "    #break"
   ]
  },
  {
   "cell_type": "code",
   "execution_count": 164,
   "id": "experienced-contractor",
   "metadata": {
    "scrolled": true
   },
   "outputs": [
    {
     "name": "stdout",
     "output_type": "stream",
     "text": [
      "[338.18] [Other acute postoperative pain                      ] mort= 2/ 7 (0.286)\n",
      "\tOther          : n=1\n",
      "\tWhite          : n=6\n",
      "[442.2 ] [Aneurysm of iliac artery                            ] mort= 0/14 (0.0)\n",
      "\tBlack          : n=1\n",
      "\tNot Specified  : n=1\n",
      "\tWhite          : n=12\n",
      "[211.1 ] [Benign neoplasm of stomach                          ] mort= 1/ 9 (0.111)\n",
      "\tBlack          : n=1\n",
      "\tHispanic       : n=1\n",
      "\tNative American: n=1\n",
      "\tWhite          : n=6\n",
      "[410.31] [Acute myocardial infarction of inferoposterior wal  ] mort= 2/19 (0.105)\n",
      "\tBlack          : n=1\n",
      "\tNot Specified  : n=7\n",
      "\tWhite          : n=11\n",
      "[305.03] [Alcohol abuse, in remission                         ] mort= 5/12 (0.417)\n",
      "\tBlack          : n=1\n",
      "\tNot Specified  : n=1\n",
      "\tWhite          : n=10\n",
      "[907.2 ] [Late effect of spinal cord injury                   ] mort= 2/10 (0.2)\n",
      "\tBlack          : n=1\n",
      "\tHispanic       : n=1\n",
      "\tNot Specified  : n=2\n",
      "\tWhite          : n=6\n",
      "[481.  ] [Pneumococcal pneumonia [Streptococcus pneumoniae p  ] mort= 4/18 (0.222)\n",
      "\tBlack          : n=1\n",
      "\tNot Specified  : n=3\n",
      "\tWhite          : n=14\n",
      "[038.12] [Methicillin resistant Staphylococcus aureus septic  ] mort= 8/12 (0.667)\n",
      "\tBlack          : n=1\n",
      "\tNot Specified  : n=1\n",
      "\tOther          : n=1\n",
      "\tWhite          : n=9\n",
      "[996.79] [Other complications due to other internal prosthet  ] mort= 3/ 9 (0.333)\n",
      "\tBlack          : n=1\n",
      "\tWhite          : n=8\n",
      "[728.86] [Necrotizing fasciitis                               ] mort= 1/ 8 (0.125)\n",
      "\tBlack          : n=1\n",
      "\tHispanic       : n=1\n",
      "\tWhite          : n=6\n",
      "[805.4 ] [Closed fracture of lumbar vertebra without mention  ] mort= 1/16 (0.0625)\n",
      "\tHispanic       : n=2\n",
      "\tOther          : n=1\n",
      "\tWhite          : n=13\n",
      "[531.00] [Acute gastric ulcer with hemorrhage, without menti  ] mort= 2/ 9 (0.222)\n",
      "\tBlack          : n=1\n",
      "\tNot Specified  : n=3\n",
      "\tWhite          : n=5\n",
      "[E92.90] [Late effects of motor vehicle accident              ] mort= 1/ 8 (0.125)\n",
      "\tBlack          : n=1\n",
      "\tHispanic       : n=1\n",
      "\tWhite          : n=6\n",
      "[V16.0 ] [Family history of malignant neoplasm of gastrointe  ] mort= 8/16 (0.5)\n",
      "\tHispanic       : n=1\n",
      "\tWhite          : n=14\n",
      "[344.89] [Other specified paralytic syndrome                  ] mort= 4/ 9 (0.444)\n",
      "\tBlack          : n=2\n",
      "\tWhite          : n=7\n",
      "[996.67] [Infection and inflammatory reaction due to other i  ] mort= 3/11 (0.273)\n",
      "\tHispanic       : n=1\n",
      "\tWhite          : n=10\n",
      "[V11.3 ] [Personal history of alcoholism                      ] mort= 4/13 (0.308)\n",
      "\tBlack          : n=2\n",
      "\tHispanic       : n=1\n",
      "\tNot Specified  : n=1\n",
      "\tWhite          : n=9\n",
      "[965.4 ] [Poisoning by aromatic analgesics, not elsewhere cl  ] mort= 1/ 9 (0.111)\n",
      "\tNot Specified  : n=1\n",
      "\tOther          : n=1\n",
      "\tWhite          : n=7\n",
      "[296.20] [Major depressive affective disorder, single episod  ] mort= 2/15 (0.133)\n",
      "\tNot Specified  : n=3\n",
      "\tWhite          : n=11\n",
      "[345.50] [Localization-related (focal) (partial) epilepsy an  ] mort= 3/ 7 (0.429)\n",
      "\tBlack          : n=1\n",
      "\tHispanic       : n=1\n",
      "\tWhite          : n=5\n",
      "[592.0 ] [Calculus of kidney                                  ] mort= 5/17 (0.294)\n",
      "\tAsian          : n=1\n",
      "\tBlack          : n=2\n",
      "\tNot Specified  : n=2\n",
      "\tWhite          : n=12\n",
      "[296.30] [Major depressive affective disorder, recurrent epi  ] mort= 2/ 7 (0.286)\n",
      "\tBlack          : n=2\n",
      "\tWhite          : n=5\n",
      "[422.91] [Idiopathic myocarditis                              ] mort= 1/ 6 (0.167)\n",
      "\tBlack          : n=1\n",
      "\tNot Specified  : n=1\n",
      "\tWhite          : n=4\n",
      "[281.1 ] [Other vitamin B12 deficiency anemia                 ] mort= 3/13 (0.231)\n",
      "\tBlack          : n=1\n",
      "\tNot Specified  : n=1\n",
      "\tWhite          : n=11\n",
      "[250.20] [Diabetes with hyperosmolarity, type II or unspecif  ] mort= 1/ 6 (0.167)\n",
      "\tAsian          : n=2\n",
      "\tBlack          : n=1\n",
      "\tHispanic       : n=1\n",
      "\tWhite          : n=2\n"
     ]
    }
   ],
   "source": [
    "for dim in list(reversed(informative_feats))[-25:]:\n",
    "    word = ind2feat[dim]\n",
    "    desc = icd_lookup[word]\n",
    "    \n",
    "    # Look at prevalance in W vs B population\n",
    "    pt_nums = train_X[:,dim].nonzero()[0]\n",
    "    hadm_ids = [train_ids[ptnum] for ptnum in pt_nums]\n",
    "    group_labels = [labels[hadm_id] for hadm_id in hadm_ids]\n",
    "    frac_mort = float(sum(group_labels)) / len(group_labels)\n",
    "    group_demographics = demographics[demographics.hadm_id.isin(hadm_ids)]\n",
    "\n",
    "    print(f'[{word[:3]+\".\"+word[3:]:6s}] [{desc[:50]:52}] mort={sum(group_labels):2}/{len(group_labels):2} ({frac_mort:.3})')\n",
    "    for race,rows in group_demographics.groupby('race'):\n",
    "        print(f'\\t{race:15}: n={len(rows)}')\n",
    "    #display(group_demographics)\n",
    "    \n",
    "    #break"
   ]
  },
  {
   "cell_type": "code",
   "execution_count": 165,
   "id": "accomplished-edmonton",
   "metadata": {},
   "outputs": [
    {
     "name": "stderr",
     "output_type": "stream",
     "text": [
      "100%|██████████| 20/20 [04:07<00:00, 12.40s/it]"
     ]
    },
    {
     "name": "stdout",
     "output_type": "stream",
     "text": [
      "AUC\n",
      "White: 0.7158867920118116 +/- 0.009647628722172038\n",
      "\t0.7036558591107618\n",
      "\t0.7089241746286237\n",
      "\t0.7116633366633367\n",
      "\t0.7274149240580594\n",
      "\t0.6920956998171024\n",
      "\t0.7056728451540699\n",
      "\t0.7186565039203523\n",
      "\t0.7295962186532423\n",
      "\t0.7052119601734774\n",
      "\t0.7131305661672835\n",
      "\t0.7165481900479641\n",
      "\t0.713981638589262\n",
      "\t0.7192883202558848\n",
      "\t0.7238540258079132\n",
      "\t0.7241712059628673\n",
      "\t0.727524293303498\n",
      "\t0.7218239644104505\n",
      "\t0.7271039255866281\n",
      "\t0.7196874006870181\n",
      "\t0.7077307872384386\n",
      "\n",
      "Black: 0.669380141173274 +/- 0.02817248567476665\n",
      "\t0.6393902105550998\n",
      "\t0.6086319585305386\n",
      "\t0.702028541101545\n",
      "\t0.6901098901098901\n",
      "\t0.6924590163934425\n",
      "\t0.6482420554428667\n",
      "\t0.6950454487261554\n",
      "\t0.6960156032320981\n",
      "\t0.6691361916771752\n",
      "\t0.6762121212121213\n",
      "\t0.697203196347032\n",
      "\t0.7305779569892473\n",
      "\t0.6709956709956709\n",
      "\t0.6379310344827587\n",
      "\t0.6748200479872034\n",
      "\t0.6476601544752385\n",
      "\t0.6612153278819947\n",
      "\t0.6404925847457626\n",
      "\t0.6496861419604056\n",
      "\t0.6597496706192358\n",
      "\n",
      "Recall\n",
      "White: 0.17425566273939636 +/- 0.005898880573961627\n",
      "\t0.16634799235165743\n",
      "\t0.1640926640925057\n",
      "\t0.17568850902167552\n",
      "\t0.17606330365956868\n",
      "\t0.1770524233430494\n",
      "\t0.16556291390712813\n",
      "\t0.17102803738301772\n",
      "\t0.18331716779807633\n",
      "\t0.16635514018676043\n",
      "\t0.17313150425716828\n",
      "\t0.18007312614243137\n",
      "\t0.1784753363227099\n",
      "\t0.18130841121478383\n",
      "\t0.18056918547577963\n",
      "\t0.1692015209123867\n",
      "\t0.1766917293231422\n",
      "\t0.1745283018866278\n",
      "\t0.18322082931515601\n",
      "\t0.16861598440529374\n",
      "\t0.17378917378900874\n",
      "\n",
      "Black: 0.1745293323605877 +/- 0.03266598165881292\n",
      "\t0.17924528301717693\n",
      "\t0.25490196078181465\n",
      "\t0.1438848920852958\n",
      "\t0.17142857142693876\n",
      "\t0.1399999999986\n",
      "\t0.14705882352797\n",
      "\t0.20560747663359244\n",
      "\t0.13402061855531938\n",
      "\t0.17307692307525888\n",
      "\t0.199999999998\n",
      "\t0.19791666666460503\n",
      "\t0.1532258064503772\n",
      "\t0.2285714285692517\n",
      "\t0.18965517241215815\n",
      "\t0.1818181818166792\n",
      "\t0.17204301075083825\n",
      "\t0.16161616161452913\n",
      "\t0.14406779660894858\n",
      "\t0.11926605504477737\n",
      "\t0.19318181817962293\n",
      "\n"
     ]
    },
    {
     "name": "stderr",
     "output_type": "stream",
     "text": [
      "\n"
     ]
    }
   ],
   "source": [
    "# Run multiple times\n",
    "aucs    = {'Black':[], 'White':[]}\n",
    "recalls = {'Black':[], 'White':[]}\n",
    "for i in tqdm.tqdm(range(20)):\n",
    "    # Randomly split data\n",
    "    ids = list(set(features.keys()) & set(labels.keys()))\n",
    "    random.shuffle(ids)\n",
    "    ind = int(0.7 * len(ids))\n",
    "    train_ids = ids[:ind]\n",
    "    test_ids  = ids[ ind:]\n",
    "\n",
    "    # train/test separation\n",
    "    train_features = [features[hadmid] for hadmid in train_ids]\n",
    "    test_features  = [features[hadmid] for hadmid in  test_ids]\n",
    "\n",
    "    train_labels = [labels[hadmid] for hadmid in train_ids]\n",
    "    test_labels  = [labels[hadmid] for hadmid in  test_ids]\n",
    "    \n",
    "    # vectorizer\n",
    "    vect = DictVectorizer()\n",
    "    vect.fit(train_features)\n",
    "    train_X = vect.transform(train_features)\n",
    "    test_X  = vect.transform( test_features)\n",
    "    \n",
    "    # fit model\n",
    "    xgb = xgboost.XGBClassifier(eval_metric='logloss', use_label_encoder=False)\n",
    "    xgb.fit(train_X, train_labels)\n",
    "    \n",
    "    # threshold across groups\n",
    "    test_pred = xgb.predict_proba(test_X) [:,1]\n",
    "    n = int(0.9*len(test_pred))\n",
    "    thr = sorted(test_pred)[n]\n",
    "    \n",
    "    # predict and eval for black vs white\n",
    "    test_demographics = demographics[demographics.hadm_id.isin(test_ids)]\n",
    "    for race in ['White', 'Black']:\n",
    "        rows = test_demographics[test_demographics.race==race]\n",
    "        group_ids = list(set(rows.hadm_id))\n",
    "        group_features = [features[pid] for pid in group_ids]\n",
    "        group_X = vect.transform(group_features)\n",
    "        group_labels   = [labels[pid]   for pid in group_ids]\n",
    "        group_pred = xgb.predict_proba(group_X) [:,1]\n",
    "\n",
    "        results = evaluate_performance(group_labels, group_pred, thr=thr)\n",
    "        aucs[race].append(results['auc'])\n",
    "        recalls[race].append(results['recall'])\n",
    "        \n",
    "    \n",
    "    #break\n",
    "    \n",
    "#print(aucs)\n",
    "#print()\n",
    "print('AUC')\n",
    "for race in ['White', 'Black']:\n",
    "    print(f'{race}: {np.mean(aucs[race])} +/- {np.std(aucs[race])}')\n",
    "    for auc in aucs[race]:\n",
    "        print(f'\\t{auc}')\n",
    "    print()\n",
    "    \n",
    "print('Recall')\n",
    "for race in ['White', 'Black']:\n",
    "    print(f'{race}: {np.mean(recalls[race])} +/- {np.std(recalls[race])}')\n",
    "    for r in recalls[race]:\n",
    "        print(f'\\t{r}')\n",
    "    print()"
   ]
  },
  {
   "cell_type": "code",
   "execution_count": 166,
   "id": "still-italy",
   "metadata": {},
   "outputs": [],
   "source": [
    "# Aversge risk score per race\n",
    "\n",
    "# Per race recall @ top-10%\n",
    "n = int(0.9*len(test_pred))\n",
    "thr = sorted(test_pred)[n]\n",
    "\n",
    "test_demographics = demographics[demographics.hadm_id.isin(test_ids)]\n",
    "scores = {}\n",
    "for race in ['White', 'Black']:\n",
    "    #print(race)\n",
    "    #display(rows)\n",
    "    rows = test_demographics[test_demographics.race==race]\n",
    "    group_ids = list(set(rows.hadm_id))\n",
    "    group_features = [features[pid] for pid in group_ids]\n",
    "    group_X = vect.transform(group_features)\n",
    "    group_labels   = [labels[pid]   for pid in group_ids]\n",
    "    group_pred = xgb.predict_proba(group_X) [:,1]\n",
    "    scores[race] = group_pred"
   ]
  },
  {
   "cell_type": "code",
   "execution_count": 167,
   "id": "stainless-athletics",
   "metadata": {},
   "outputs": [
    {
     "name": "stdout",
     "output_type": "stream",
     "text": [
      "\t\twhite: 2055 0.50237024\n",
      "\t\tblack: 157 0.64932305\n",
      "\t\tp-value: 9.169322729638583e-10\n"
     ]
    },
    {
     "name": "stderr",
     "output_type": "stream",
     "text": [
      "<ipython-input-167-fd7ff894758e>:38: MatplotlibDeprecationWarning: Adding an axes using the same arguments as a previous axes currently reuses the earlier instance.  In a future version, a new instance will always be created and returned.  Meanwhile, this warning can be suppressed, and the future behavior ensured, by passing a unique label to each axes instance.\n",
      "  ax = pl.subplot(111)\n"
     ]
    },
    {
     "data": {
      "image/png": "[encoded data removed]",
      "text/plain": [
       "<Figure size 432x288 with 1 Axes>"
      ]
     },
     "metadata": {
      "needs_background": "light"
     },
     "output_type": "display_data"
    }
   ],
   "source": [
    "def list_median(vals):\n",
    "    svals = sorted(vals)\n",
    "    return svals[int(len(svals)/2)]\n",
    "\n",
    "\n",
    "def plot_distributions(dists):\n",
    "    fig = pl.figure()\n",
    "\n",
    "    p1 = list(dists['White'])\n",
    "    p2 = list(dists['Black'])\n",
    "    \n",
    "    white_median = list_median(p1)\n",
    "    black_median = list_median(p2)\n",
    "    smaller_median = min(white_median, black_median)\n",
    "\n",
    "    #colors = ['#00A6ED', '#FF5400']\n",
    "    colors = ['green', 'blue']\n",
    "    for i,race in enumerate(['White', 'Black']):\n",
    "        vals = list(dists[race])\n",
    "        pl.plot(np.sort(vals), np.linspace(0, 1, len(vals), endpoint=False), color=colors[i], label=race, lw=2)\n",
    "        #pl.xlim((0,0.4))\n",
    "        pl.xlim((0,1.0))\n",
    "        pl.ylim((0,1.0))\n",
    "\n",
    "        median = list_median(vals)\n",
    "        pl.axvline(x=median, linestyle=\"--\", lw=1, color=colors[i], alpha=0.8) \n",
    "        if median == smaller_median:\n",
    "            p = .001\n",
    "            h = 'right'\n",
    "        else:\n",
    "            p = -.001\n",
    "            h = 'left'\n",
    "        #h = 'center'\n",
    "        pl.text(x=median+p, y=1.085, horizontalalignment=h, s=\"median:\"      , fontsize=14, color=colors[i])\n",
    "        pl.text(x=median+p, y=1.01 , horizontalalignment=h, s=f'{median:.3f}', fontsize=17, color=colors[i])\n",
    "\n",
    "\n",
    "    ax = pl.subplot(111)    \n",
    "    ax.spines[\"top\"].set_visible(False)    \n",
    "    ax.spines[\"right\"].set_visible(False)    \n",
    "    pl.yticks(fontsize=15)    \n",
    "    pl.xticks(fontsize=15) \n",
    "\n",
    "    pl.legend(loc=4, fontsize=17)\n",
    "    pl.ylabel(\"% patients with <= score\", fontsize=15)\n",
    "    pl.xlabel('risk score', fontsize=15)\n",
    "\n",
    "    pl.tight_layout()\n",
    "\n",
    "    w = mannwhitneyu(p1, p2)\n",
    "    print('\\t\\twhite:', len(p1), white_median)\n",
    "    print('\\t\\tblack:', len(p2), black_median)\n",
    "    print('\\t\\tp-value:', w.pvalue)\n",
    "    pl.show()\n",
    "    \n",
    "\n",
    "    \n",
    "plot_distributions(scores)"
   ]
  },
  {
   "cell_type": "code",
   "execution_count": 168,
   "id": "special-belief",
   "metadata": {},
   "outputs": [],
   "source": [
    "# TODO: could build model to distinguish black vs white (to see what top separators are)\n",
    "pass"
   ]
  },
  {
   "cell_type": "code",
   "execution_count": null,
   "id": "orange-command",
   "metadata": {},
   "outputs": [],
   "source": []
  },
  {
   "cell_type": "code",
   "execution_count": null,
   "id": "literary-carter",
   "metadata": {},
   "outputs": [],
   "source": []
  },
  {
   "cell_type": "code",
   "execution_count": null,
   "id": "polyphonic-denial",
   "metadata": {},
   "outputs": [],
   "source": []
  },
  {
   "cell_type": "code",
   "execution_count": null,
   "id": "nuclear-cleanup",
   "metadata": {},
   "outputs": [],
   "source": []
  }
 ],
 "metadata": {
  "kernelspec": {
   "display_name": "Python 3",
   "language": "python",
   "name": "python3"
  },
  "language_info": {
   "codemirror_mode": {
    "name": "ipython",
    "version": 3
   },
   "file_extension": ".py",
   "mimetype": "text/x-python",
   "name": "python",
   "nbconvert_exporter": "python",
   "pygments_lexer": "ipython3",
   "version": "3.9.1"
  }
 },
 "nbformat": 4,
 "nbformat_minor": 5
}
